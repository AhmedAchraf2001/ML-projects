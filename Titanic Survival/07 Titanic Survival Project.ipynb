{
 "cells": [
  {
   "cell_type": "markdown",
   "id": "a9515a9c",
   "metadata": {
    "ExecuteTime": {
     "end_time": "2022-10-06T16:42:31.373673Z",
     "start_time": "2022-10-06T16:42:31.353726Z"
    }
   },
   "source": [
    "<img src='Titanic_Portside_Diagram.jpg' height=\"1000px\" width=\"80%\">"
   ]
  },
  {
   "cell_type": "code",
   "execution_count": 53,
   "id": "b8bd9047",
   "metadata": {
    "ExecuteTime": {
     "end_time": "2022-10-06T17:37:49.190373Z",
     "start_time": "2022-10-06T17:37:49.187381Z"
    }
   },
   "outputs": [],
   "source": [
    "import pandas as pd \n",
    "import numpy as np"
   ]
  },
  {
   "cell_type": "code",
   "execution_count": 54,
   "id": "95a843e4",
   "metadata": {
    "ExecuteTime": {
     "end_time": "2022-10-06T17:37:49.201344Z",
     "start_time": "2022-10-06T17:37:49.191369Z"
    }
   },
   "outputs": [],
   "source": [
    "data = pd.read_csv(\"train.csv\")"
   ]
  },
  {
   "cell_type": "code",
   "execution_count": 84,
   "id": "69e1be9a",
   "metadata": {
    "ExecuteTime": {
     "end_time": "2022-10-06T17:41:14.909181Z",
     "start_time": "2022-10-06T17:41:14.898210Z"
    }
   },
   "outputs": [
    {
     "data": {
      "text/html": [
       "<div>\n",
       "<style scoped>\n",
       "    .dataframe tbody tr th:only-of-type {\n",
       "        vertical-align: middle;\n",
       "    }\n",
       "\n",
       "    .dataframe tbody tr th {\n",
       "        vertical-align: top;\n",
       "    }\n",
       "\n",
       "    .dataframe thead th {\n",
       "        text-align: right;\n",
       "    }\n",
       "</style>\n",
       "<table border=\"1\" class=\"dataframe\">\n",
       "  <thead>\n",
       "    <tr style=\"text-align: right;\">\n",
       "      <th></th>\n",
       "      <th>PassengerId</th>\n",
       "      <th>Pclass</th>\n",
       "      <th>Name</th>\n",
       "      <th>Sex</th>\n",
       "      <th>Age</th>\n",
       "      <th>SibSp</th>\n",
       "      <th>Parch</th>\n",
       "      <th>Ticket</th>\n",
       "      <th>Fare</th>\n",
       "      <th>Cabin</th>\n",
       "      <th>Embarked</th>\n",
       "    </tr>\n",
       "  </thead>\n",
       "  <tbody>\n",
       "    <tr>\n",
       "      <th>413</th>\n",
       "      <td>1305</td>\n",
       "      <td>3</td>\n",
       "      <td>Spector, Mr. Woolf</td>\n",
       "      <td>male</td>\n",
       "      <td>NaN</td>\n",
       "      <td>0</td>\n",
       "      <td>0</td>\n",
       "      <td>A.5. 3236</td>\n",
       "      <td>8.0500</td>\n",
       "      <td>NaN</td>\n",
       "      <td>S</td>\n",
       "    </tr>\n",
       "    <tr>\n",
       "      <th>414</th>\n",
       "      <td>1306</td>\n",
       "      <td>1</td>\n",
       "      <td>Oliva y Ocana, Dona. Fermina</td>\n",
       "      <td>female</td>\n",
       "      <td>39.0</td>\n",
       "      <td>0</td>\n",
       "      <td>0</td>\n",
       "      <td>PC 17758</td>\n",
       "      <td>108.9000</td>\n",
       "      <td>C105</td>\n",
       "      <td>C</td>\n",
       "    </tr>\n",
       "    <tr>\n",
       "      <th>415</th>\n",
       "      <td>1307</td>\n",
       "      <td>3</td>\n",
       "      <td>Saether, Mr. Simon Sivertsen</td>\n",
       "      <td>male</td>\n",
       "      <td>38.5</td>\n",
       "      <td>0</td>\n",
       "      <td>0</td>\n",
       "      <td>SOTON/O.Q. 3101262</td>\n",
       "      <td>7.2500</td>\n",
       "      <td>NaN</td>\n",
       "      <td>S</td>\n",
       "    </tr>\n",
       "    <tr>\n",
       "      <th>416</th>\n",
       "      <td>1308</td>\n",
       "      <td>3</td>\n",
       "      <td>Ware, Mr. Frederick</td>\n",
       "      <td>male</td>\n",
       "      <td>NaN</td>\n",
       "      <td>0</td>\n",
       "      <td>0</td>\n",
       "      <td>359309</td>\n",
       "      <td>8.0500</td>\n",
       "      <td>NaN</td>\n",
       "      <td>S</td>\n",
       "    </tr>\n",
       "    <tr>\n",
       "      <th>417</th>\n",
       "      <td>1309</td>\n",
       "      <td>3</td>\n",
       "      <td>Peter, Master. Michael J</td>\n",
       "      <td>male</td>\n",
       "      <td>NaN</td>\n",
       "      <td>1</td>\n",
       "      <td>1</td>\n",
       "      <td>2668</td>\n",
       "      <td>22.3583</td>\n",
       "      <td>NaN</td>\n",
       "      <td>C</td>\n",
       "    </tr>\n",
       "  </tbody>\n",
       "</table>\n",
       "</div>"
      ],
      "text/plain": [
       "     PassengerId  Pclass                          Name     Sex   Age  SibSp  \\\n",
       "413         1305       3            Spector, Mr. Woolf    male   NaN      0   \n",
       "414         1306       1  Oliva y Ocana, Dona. Fermina  female  39.0      0   \n",
       "415         1307       3  Saether, Mr. Simon Sivertsen    male  38.5      0   \n",
       "416         1308       3           Ware, Mr. Frederick    male   NaN      0   \n",
       "417         1309       3      Peter, Master. Michael J    male   NaN      1   \n",
       "\n",
       "     Parch              Ticket      Fare Cabin Embarked  \n",
       "413      0           A.5. 3236    8.0500   NaN        S  \n",
       "414      0            PC 17758  108.9000  C105        C  \n",
       "415      0  SOTON/O.Q. 3101262    7.2500   NaN        S  \n",
       "416      0              359309    8.0500   NaN        S  \n",
       "417      1                2668   22.3583   NaN        C  "
      ]
     },
     "execution_count": 84,
     "metadata": {},
     "output_type": "execute_result"
    }
   ],
   "source": [
    "data.tail()"
   ]
  },
  {
   "cell_type": "markdown",
   "id": "d9cf39a8",
   "metadata": {},
   "source": [
    "<div> \n",
    "survival - Survival (0 = No; 1 = Yes)<br>\n",
    "class - Passenger Class (1 = 1st; 2 = 2nd; 3 = 3rd)<br>\n",
    "sex - Sex<br>\n",
    "age - Age<br>\n",
    "sibsp - Number of Siblings/Spouses Aboard<br>\n",
    "parch - Number of Parents/Children Aboard<br>\n",
    "ticket - Ticket Number<br>\n",
    "fare - Passenger Fare<br>\n",
    "cabin - Cabin<br>\n",
    "embarked - Port of Embarkation (C = Cherbourg; Q = Queenstown; S = Southampton)<br>\n",
    "boat - Lifeboat (if survived)<br>\n",
    "body - Body number (if did not survive and body was recovered)<br>\n",
    "</div>"
   ]
  },
  {
   "cell_type": "markdown",
   "id": "e33ed79c",
   "metadata": {},
   "source": [
    "# "
   ]
  },
  {
   "cell_type": "code",
   "execution_count": 85,
   "id": "460225b4",
   "metadata": {
    "ExecuteTime": {
     "end_time": "2022-10-06T17:41:15.405674Z",
     "start_time": "2022-10-06T17:41:15.401685Z"
    }
   },
   "outputs": [
    {
     "data": {
      "text/plain": [
       "(418, 11)"
      ]
     },
     "execution_count": 85,
     "metadata": {},
     "output_type": "execute_result"
    }
   ],
   "source": [
    "data.shape"
   ]
  },
  {
   "cell_type": "code",
   "execution_count": 86,
   "id": "daaa8d92",
   "metadata": {
    "ExecuteTime": {
     "end_time": "2022-10-06T17:41:15.567623Z",
     "start_time": "2022-10-06T17:41:15.561639Z"
    }
   },
   "outputs": [
    {
     "data": {
      "text/plain": [
       "PassengerId      0\n",
       "Pclass           0\n",
       "Name             0\n",
       "Sex              0\n",
       "Age             86\n",
       "SibSp            0\n",
       "Parch            0\n",
       "Ticket           0\n",
       "Fare             1\n",
       "Cabin          327\n",
       "Embarked         0\n",
       "dtype: int64"
      ]
     },
     "execution_count": 86,
     "metadata": {},
     "output_type": "execute_result"
    }
   ],
   "source": [
    "data.isna().sum()"
   ]
  },
  {
   "cell_type": "code",
   "execution_count": 87,
   "id": "046bb9dc",
   "metadata": {
    "ExecuteTime": {
     "end_time": "2022-10-06T17:41:15.726198Z",
     "start_time": "2022-10-06T17:41:15.721211Z"
    }
   },
   "outputs": [],
   "source": [
    "data.drop(['SibSp', 'Parch', 'Name', 'Ticket', 'Cabin'], axis=1, inplace= True)"
   ]
  },
  {
   "cell_type": "code",
   "execution_count": 88,
   "id": "482fad31",
   "metadata": {
    "ExecuteTime": {
     "end_time": "2022-10-06T17:41:15.880188Z",
     "start_time": "2022-10-06T17:41:15.874206Z"
    },
    "scrolled": true
   },
   "outputs": [
    {
     "data": {
      "text/plain": [
       "count    332.000000\n",
       "mean      30.272590\n",
       "std       14.181209\n",
       "min        0.170000\n",
       "25%       21.000000\n",
       "50%       27.000000\n",
       "75%       39.000000\n",
       "max       76.000000\n",
       "Name: Age, dtype: float64"
      ]
     },
     "execution_count": 88,
     "metadata": {},
     "output_type": "execute_result"
    }
   ],
   "source": [
    "data.Age.describe()"
   ]
  },
  {
   "cell_type": "code",
   "execution_count": 89,
   "id": "78d2e5f4",
   "metadata": {
    "ExecuteTime": {
     "end_time": "2022-10-06T17:41:16.205316Z",
     "start_time": "2022-10-06T17:41:16.202322Z"
    },
    "scrolled": true
   },
   "outputs": [],
   "source": [
    "c = 0 \n",
    "li = []\n",
    "for u in data.Age.isna():\n",
    "    if u == True :\n",
    "        li.append(c)\n",
    "    c+=1"
   ]
  },
  {
   "cell_type": "code",
   "execution_count": 90,
   "id": "fe87bfe7",
   "metadata": {
    "ExecuteTime": {
     "end_time": "2022-10-06T17:41:16.363114Z",
     "start_time": "2022-10-06T17:41:16.354139Z"
    }
   },
   "outputs": [
    {
     "data": {
      "text/html": [
       "<div>\n",
       "<style scoped>\n",
       "    .dataframe tbody tr th:only-of-type {\n",
       "        vertical-align: middle;\n",
       "    }\n",
       "\n",
       "    .dataframe tbody tr th {\n",
       "        vertical-align: top;\n",
       "    }\n",
       "\n",
       "    .dataframe thead th {\n",
       "        text-align: right;\n",
       "    }\n",
       "</style>\n",
       "<table border=\"1\" class=\"dataframe\">\n",
       "  <thead>\n",
       "    <tr style=\"text-align: right;\">\n",
       "      <th></th>\n",
       "      <th></th>\n",
       "      <th>Age</th>\n",
       "    </tr>\n",
       "    <tr>\n",
       "      <th>Pclass</th>\n",
       "      <th>Sex</th>\n",
       "      <th></th>\n",
       "    </tr>\n",
       "  </thead>\n",
       "  <tbody>\n",
       "    <tr>\n",
       "      <th rowspan=\"2\" valign=\"top\">1</th>\n",
       "      <th>female</th>\n",
       "      <td>41.333333</td>\n",
       "    </tr>\n",
       "    <tr>\n",
       "      <th>male</th>\n",
       "      <td>40.520000</td>\n",
       "    </tr>\n",
       "    <tr>\n",
       "      <th rowspan=\"2\" valign=\"top\">2</th>\n",
       "      <th>female</th>\n",
       "      <td>24.376552</td>\n",
       "    </tr>\n",
       "    <tr>\n",
       "      <th>male</th>\n",
       "      <td>30.940678</td>\n",
       "    </tr>\n",
       "    <tr>\n",
       "      <th rowspan=\"2\" valign=\"top\">3</th>\n",
       "      <th>female</th>\n",
       "      <td>23.073400</td>\n",
       "    </tr>\n",
       "    <tr>\n",
       "      <th>male</th>\n",
       "      <td>24.525104</td>\n",
       "    </tr>\n",
       "  </tbody>\n",
       "</table>\n",
       "</div>"
      ],
      "text/plain": [
       "                     Age\n",
       "Pclass Sex              \n",
       "1      female  41.333333\n",
       "       male    40.520000\n",
       "2      female  24.376552\n",
       "       male    30.940678\n",
       "3      female  23.073400\n",
       "       male    24.525104"
      ]
     },
     "execution_count": 90,
     "metadata": {},
     "output_type": "execute_result"
    }
   ],
   "source": [
    "g = data.groupby(['Pclass', 'Sex']).agg({'Age':'mean'})\n",
    "g"
   ]
  },
  {
   "cell_type": "code",
   "execution_count": 91,
   "id": "008fd689",
   "metadata": {
    "ExecuteTime": {
     "end_time": "2022-10-06T17:41:16.533349Z",
     "start_time": "2022-10-06T17:41:16.529360Z"
    }
   },
   "outputs": [],
   "source": [
    "ages = g.Age.tolist()"
   ]
  },
  {
   "cell_type": "code",
   "execution_count": 92,
   "id": "d0e91340",
   "metadata": {
    "ExecuteTime": {
     "end_time": "2022-10-06T17:41:16.723906Z",
     "start_time": "2022-10-06T17:41:16.705955Z"
    }
   },
   "outputs": [
    {
     "name": "stderr",
     "output_type": "stream",
     "text": [
      "C:\\Users\\10\\AppData\\Local\\Temp/ipykernel_15940/2957573702.py:5: SettingWithCopyWarning: \n",
      "A value is trying to be set on a copy of a slice from a DataFrame\n",
      "\n",
      "See the caveats in the documentation: https://pandas.pydata.org/pandas-docs/stable/user_guide/indexing.html#returning-a-view-versus-a-copy\n",
      "  data.Age[(data.Sex == i) & (data.Pclass == j)] = data.Age[(data.Sex == i) & (data.Pclass == j)].fillna(ages.pop(0))\n"
     ]
    }
   ],
   "source": [
    "_class = [1, 2, 3]\n",
    "sex = ['female', 'male']\n",
    "for j in _class:\n",
    "    for i in sex:\n",
    "        data.Age[(data.Sex == i) & (data.Pclass == j)] = data.Age[(data.Sex == i) & (data.Pclass == j)].fillna(ages.pop(0))"
   ]
  },
  {
   "cell_type": "code",
   "execution_count": 93,
   "id": "5de04a4e",
   "metadata": {
    "ExecuteTime": {
     "end_time": "2022-10-06T17:41:16.878493Z",
     "start_time": "2022-10-06T17:41:16.873506Z"
    }
   },
   "outputs": [
    {
     "data": {
      "text/plain": [
       "0"
      ]
     },
     "execution_count": 93,
     "metadata": {},
     "output_type": "execute_result"
    }
   ],
   "source": [
    "data.Age.isna().sum()"
   ]
  },
  {
   "cell_type": "code",
   "execution_count": 94,
   "id": "153e94b6",
   "metadata": {
    "ExecuteTime": {
     "end_time": "2022-10-06T17:41:17.077293Z",
     "start_time": "2022-10-06T17:41:17.073305Z"
    }
   },
   "outputs": [],
   "source": [
    "data.Fare.fillna(data.Fare.mean(), inplace= True)"
   ]
  },
  {
   "cell_type": "code",
   "execution_count": 95,
   "id": "83871da9",
   "metadata": {
    "ExecuteTime": {
     "end_time": "2022-10-06T17:41:17.322347Z",
     "start_time": "2022-10-06T17:41:17.314370Z"
    },
    "scrolled": true
   },
   "outputs": [
    {
     "data": {
      "text/html": [
       "<div>\n",
       "<style scoped>\n",
       "    .dataframe tbody tr th:only-of-type {\n",
       "        vertical-align: middle;\n",
       "    }\n",
       "\n",
       "    .dataframe tbody tr th {\n",
       "        vertical-align: top;\n",
       "    }\n",
       "\n",
       "    .dataframe thead th {\n",
       "        text-align: right;\n",
       "    }\n",
       "</style>\n",
       "<table border=\"1\" class=\"dataframe\">\n",
       "  <thead>\n",
       "    <tr style=\"text-align: right;\">\n",
       "      <th></th>\n",
       "      <th>PassengerId</th>\n",
       "      <th>Pclass</th>\n",
       "      <th>Sex</th>\n",
       "      <th>Age</th>\n",
       "      <th>Fare</th>\n",
       "      <th>Embarked</th>\n",
       "    </tr>\n",
       "  </thead>\n",
       "  <tbody>\n",
       "    <tr>\n",
       "      <th>0</th>\n",
       "      <td>892</td>\n",
       "      <td>3</td>\n",
       "      <td>male</td>\n",
       "      <td>34.5</td>\n",
       "      <td>7.8292</td>\n",
       "      <td>Q</td>\n",
       "    </tr>\n",
       "    <tr>\n",
       "      <th>1</th>\n",
       "      <td>893</td>\n",
       "      <td>3</td>\n",
       "      <td>female</td>\n",
       "      <td>47.0</td>\n",
       "      <td>7.0000</td>\n",
       "      <td>S</td>\n",
       "    </tr>\n",
       "    <tr>\n",
       "      <th>2</th>\n",
       "      <td>894</td>\n",
       "      <td>2</td>\n",
       "      <td>male</td>\n",
       "      <td>62.0</td>\n",
       "      <td>9.6875</td>\n",
       "      <td>Q</td>\n",
       "    </tr>\n",
       "    <tr>\n",
       "      <th>3</th>\n",
       "      <td>895</td>\n",
       "      <td>3</td>\n",
       "      <td>male</td>\n",
       "      <td>27.0</td>\n",
       "      <td>8.6625</td>\n",
       "      <td>S</td>\n",
       "    </tr>\n",
       "    <tr>\n",
       "      <th>4</th>\n",
       "      <td>896</td>\n",
       "      <td>3</td>\n",
       "      <td>female</td>\n",
       "      <td>22.0</td>\n",
       "      <td>12.2875</td>\n",
       "      <td>S</td>\n",
       "    </tr>\n",
       "  </tbody>\n",
       "</table>\n",
       "</div>"
      ],
      "text/plain": [
       "   PassengerId  Pclass     Sex   Age     Fare Embarked\n",
       "0          892       3    male  34.5   7.8292        Q\n",
       "1          893       3  female  47.0   7.0000        S\n",
       "2          894       2    male  62.0   9.6875        Q\n",
       "3          895       3    male  27.0   8.6625        S\n",
       "4          896       3  female  22.0  12.2875        S"
      ]
     },
     "execution_count": 95,
     "metadata": {},
     "output_type": "execute_result"
    }
   ],
   "source": [
    "data.head()"
   ]
  },
  {
   "cell_type": "code",
   "execution_count": 96,
   "id": "d095eb78",
   "metadata": {
    "ExecuteTime": {
     "end_time": "2022-10-06T17:41:17.766608Z",
     "start_time": "2022-10-06T17:41:17.761622Z"
    }
   },
   "outputs": [],
   "source": [
    "df = pd.get_dummies(data['Embarked'])\n",
    "sexDf = pd.get_dummies(data['Sex'])"
   ]
  },
  {
   "cell_type": "code",
   "execution_count": 97,
   "id": "852e8fe5",
   "metadata": {
    "ExecuteTime": {
     "end_time": "2022-10-06T17:41:17.917601Z",
     "start_time": "2022-10-06T17:41:17.913611Z"
    }
   },
   "outputs": [],
   "source": [
    "newData = pd.concat([data, sexDf, df], axis= 1)"
   ]
  },
  {
   "cell_type": "code",
   "execution_count": 98,
   "id": "7bca7409",
   "metadata": {
    "ExecuteTime": {
     "end_time": "2022-10-06T17:41:20.758096Z",
     "start_time": "2022-10-06T17:41:20.754106Z"
    }
   },
   "outputs": [],
   "source": [
    "newData.drop(['Sex', 'Embarked'], axis=1, inplace= True)"
   ]
  },
  {
   "cell_type": "markdown",
   "id": "c20a67b5",
   "metadata": {},
   "source": [
    "# "
   ]
  },
  {
   "cell_type": "markdown",
   "id": "b8fff8cd",
   "metadata": {},
   "source": [
    "# make a column to specify if he was alone or not"
   ]
  },
  {
   "cell_type": "markdown",
   "id": "7cdb80f5",
   "metadata": {},
   "source": [
    "# model"
   ]
  },
  {
   "cell_type": "code",
   "execution_count": 99,
   "id": "4592b347",
   "metadata": {
    "ExecuteTime": {
     "end_time": "2022-10-06T17:41:23.157272Z",
     "start_time": "2022-10-06T17:41:23.154280Z"
    }
   },
   "outputs": [],
   "source": [
    "from sklearn.model_selection import train_test_split\n",
    "from sklearn.preprocessing import normalize"
   ]
  },
  {
   "cell_type": "code",
   "execution_count": 100,
   "id": "ad703436",
   "metadata": {
    "ExecuteTime": {
     "end_time": "2022-10-06T17:41:23.493752Z",
     "start_time": "2022-10-06T17:41:23.489762Z"
    }
   },
   "outputs": [],
   "source": [
    "norData = normalize(newData[['Fare', 'Age']])"
   ]
  },
  {
   "cell_type": "code",
   "execution_count": 101,
   "id": "d0bc6fd9",
   "metadata": {
    "ExecuteTime": {
     "end_time": "2022-10-06T17:41:23.709343Z",
     "start_time": "2022-10-06T17:41:23.705354Z"
    }
   },
   "outputs": [],
   "source": [
    "norData = pd.DataFrame(norData, columns=['fare', 'age'])"
   ]
  },
  {
   "cell_type": "code",
   "execution_count": 102,
   "id": "b2475f96",
   "metadata": {
    "ExecuteTime": {
     "end_time": "2022-10-06T17:41:24.101407Z",
     "start_time": "2022-10-06T17:41:24.097418Z"
    }
   },
   "outputs": [],
   "source": [
    "finalData = pd.concat([newData, norData], axis= 1)"
   ]
  },
  {
   "cell_type": "code",
   "execution_count": 103,
   "id": "cecc4e2c",
   "metadata": {
    "ExecuteTime": {
     "end_time": "2022-10-06T17:41:26.494540Z",
     "start_time": "2022-10-06T17:41:26.490551Z"
    }
   },
   "outputs": [],
   "source": [
    "finalData.drop(['Age', 'Fare'], axis=1, inplace= True)"
   ]
  },
  {
   "cell_type": "code",
   "execution_count": 104,
   "id": "37bd5331",
   "metadata": {
    "ExecuteTime": {
     "end_time": "2022-10-06T17:41:26.916796Z",
     "start_time": "2022-10-06T17:41:26.905825Z"
    }
   },
   "outputs": [
    {
     "data": {
      "text/html": [
       "<div>\n",
       "<style scoped>\n",
       "    .dataframe tbody tr th:only-of-type {\n",
       "        vertical-align: middle;\n",
       "    }\n",
       "\n",
       "    .dataframe tbody tr th {\n",
       "        vertical-align: top;\n",
       "    }\n",
       "\n",
       "    .dataframe thead th {\n",
       "        text-align: right;\n",
       "    }\n",
       "</style>\n",
       "<table border=\"1\" class=\"dataframe\">\n",
       "  <thead>\n",
       "    <tr style=\"text-align: right;\">\n",
       "      <th></th>\n",
       "      <th>PassengerId</th>\n",
       "      <th>Pclass</th>\n",
       "      <th>female</th>\n",
       "      <th>male</th>\n",
       "      <th>C</th>\n",
       "      <th>Q</th>\n",
       "      <th>S</th>\n",
       "      <th>fare</th>\n",
       "      <th>age</th>\n",
       "    </tr>\n",
       "  </thead>\n",
       "  <tbody>\n",
       "    <tr>\n",
       "      <th>0</th>\n",
       "      <td>892</td>\n",
       "      <td>3</td>\n",
       "      <td>0</td>\n",
       "      <td>1</td>\n",
       "      <td>0</td>\n",
       "      <td>1</td>\n",
       "      <td>0</td>\n",
       "      <td>0.221306</td>\n",
       "      <td>0.975204</td>\n",
       "    </tr>\n",
       "    <tr>\n",
       "      <th>1</th>\n",
       "      <td>893</td>\n",
       "      <td>3</td>\n",
       "      <td>1</td>\n",
       "      <td>0</td>\n",
       "      <td>0</td>\n",
       "      <td>0</td>\n",
       "      <td>1</td>\n",
       "      <td>0.147311</td>\n",
       "      <td>0.989090</td>\n",
       "    </tr>\n",
       "    <tr>\n",
       "      <th>2</th>\n",
       "      <td>894</td>\n",
       "      <td>2</td>\n",
       "      <td>0</td>\n",
       "      <td>1</td>\n",
       "      <td>0</td>\n",
       "      <td>1</td>\n",
       "      <td>0</td>\n",
       "      <td>0.154377</td>\n",
       "      <td>0.988012</td>\n",
       "    </tr>\n",
       "    <tr>\n",
       "      <th>3</th>\n",
       "      <td>895</td>\n",
       "      <td>3</td>\n",
       "      <td>0</td>\n",
       "      <td>1</td>\n",
       "      <td>0</td>\n",
       "      <td>0</td>\n",
       "      <td>1</td>\n",
       "      <td>0.305495</td>\n",
       "      <td>0.952194</td>\n",
       "    </tr>\n",
       "    <tr>\n",
       "      <th>4</th>\n",
       "      <td>896</td>\n",
       "      <td>3</td>\n",
       "      <td>1</td>\n",
       "      <td>0</td>\n",
       "      <td>0</td>\n",
       "      <td>0</td>\n",
       "      <td>1</td>\n",
       "      <td>0.487621</td>\n",
       "      <td>0.873055</td>\n",
       "    </tr>\n",
       "    <tr>\n",
       "      <th>...</th>\n",
       "      <td>...</td>\n",
       "      <td>...</td>\n",
       "      <td>...</td>\n",
       "      <td>...</td>\n",
       "      <td>...</td>\n",
       "      <td>...</td>\n",
       "      <td>...</td>\n",
       "      <td>...</td>\n",
       "      <td>...</td>\n",
       "    </tr>\n",
       "    <tr>\n",
       "      <th>413</th>\n",
       "      <td>1305</td>\n",
       "      <td>3</td>\n",
       "      <td>0</td>\n",
       "      <td>1</td>\n",
       "      <td>0</td>\n",
       "      <td>0</td>\n",
       "      <td>1</td>\n",
       "      <td>0.311865</td>\n",
       "      <td>0.950126</td>\n",
       "    </tr>\n",
       "    <tr>\n",
       "      <th>414</th>\n",
       "      <td>1306</td>\n",
       "      <td>1</td>\n",
       "      <td>1</td>\n",
       "      <td>0</td>\n",
       "      <td>1</td>\n",
       "      <td>0</td>\n",
       "      <td>0</td>\n",
       "      <td>0.941448</td>\n",
       "      <td>0.337158</td>\n",
       "    </tr>\n",
       "    <tr>\n",
       "      <th>415</th>\n",
       "      <td>1307</td>\n",
       "      <td>3</td>\n",
       "      <td>0</td>\n",
       "      <td>1</td>\n",
       "      <td>0</td>\n",
       "      <td>0</td>\n",
       "      <td>1</td>\n",
       "      <td>0.185059</td>\n",
       "      <td>0.982727</td>\n",
       "    </tr>\n",
       "    <tr>\n",
       "      <th>416</th>\n",
       "      <td>1308</td>\n",
       "      <td>3</td>\n",
       "      <td>0</td>\n",
       "      <td>1</td>\n",
       "      <td>0</td>\n",
       "      <td>0</td>\n",
       "      <td>1</td>\n",
       "      <td>0.311865</td>\n",
       "      <td>0.950126</td>\n",
       "    </tr>\n",
       "    <tr>\n",
       "      <th>417</th>\n",
       "      <td>1309</td>\n",
       "      <td>3</td>\n",
       "      <td>0</td>\n",
       "      <td>1</td>\n",
       "      <td>1</td>\n",
       "      <td>0</td>\n",
       "      <td>0</td>\n",
       "      <td>0.673707</td>\n",
       "      <td>0.738998</td>\n",
       "    </tr>\n",
       "  </tbody>\n",
       "</table>\n",
       "<p>418 rows × 9 columns</p>\n",
       "</div>"
      ],
      "text/plain": [
       "     PassengerId  Pclass  female  male  C  Q  S      fare       age\n",
       "0            892       3       0     1  0  1  0  0.221306  0.975204\n",
       "1            893       3       1     0  0  0  1  0.147311  0.989090\n",
       "2            894       2       0     1  0  1  0  0.154377  0.988012\n",
       "3            895       3       0     1  0  0  1  0.305495  0.952194\n",
       "4            896       3       1     0  0  0  1  0.487621  0.873055\n",
       "..           ...     ...     ...   ... .. .. ..       ...       ...\n",
       "413         1305       3       0     1  0  0  1  0.311865  0.950126\n",
       "414         1306       1       1     0  1  0  0  0.941448  0.337158\n",
       "415         1307       3       0     1  0  0  1  0.185059  0.982727\n",
       "416         1308       3       0     1  0  0  1  0.311865  0.950126\n",
       "417         1309       3       0     1  1  0  0  0.673707  0.738998\n",
       "\n",
       "[418 rows x 9 columns]"
      ]
     },
     "execution_count": 104,
     "metadata": {},
     "output_type": "execute_result"
    }
   ],
   "source": [
    "finalData"
   ]
  },
  {
   "cell_type": "code",
   "execution_count": 76,
   "id": "96561782",
   "metadata": {
    "ExecuteTime": {
     "end_time": "2022-10-06T17:37:49.396820Z",
     "start_time": "2022-10-06T17:37:49.390836Z"
    }
   },
   "outputs": [],
   "source": [
    "X = finalData.drop('Survived', axis= 1)\n",
    "y = finalData['Survived']"
   ]
  },
  {
   "cell_type": "code",
   "execution_count": 77,
   "id": "ad9220cc",
   "metadata": {
    "ExecuteTime": {
     "end_time": "2022-10-06T17:37:49.404799Z",
     "start_time": "2022-10-06T17:37:49.397818Z"
    }
   },
   "outputs": [],
   "source": [
    "X_train, X_test, y_train, y_test = train_test_split(X, y, test_size=0.2, random_state=13)"
   ]
  },
  {
   "cell_type": "markdown",
   "id": "cfeb0a03",
   "metadata": {},
   "source": [
    "# "
   ]
  },
  {
   "cell_type": "code",
   "execution_count": 78,
   "id": "6067fd09",
   "metadata": {
    "ExecuteTime": {
     "end_time": "2022-10-06T17:37:49.411780Z",
     "start_time": "2022-10-06T17:37:49.405796Z"
    }
   },
   "outputs": [],
   "source": [
    "from sklearn.linear_model import LogisticRegression"
   ]
  },
  {
   "cell_type": "code",
   "execution_count": 79,
   "id": "ae256a34",
   "metadata": {
    "ExecuteTime": {
     "end_time": "2022-10-06T17:37:49.418761Z",
     "start_time": "2022-10-06T17:37:49.412779Z"
    }
   },
   "outputs": [],
   "source": [
    "re = LogisticRegression()"
   ]
  },
  {
   "cell_type": "code",
   "execution_count": 80,
   "id": "6ae9b048",
   "metadata": {
    "ExecuteTime": {
     "end_time": "2022-10-06T17:37:49.444693Z",
     "start_time": "2022-10-06T17:37:49.419759Z"
    }
   },
   "outputs": [
    {
     "data": {
      "text/plain": [
       "LogisticRegression()"
      ]
     },
     "execution_count": 80,
     "metadata": {},
     "output_type": "execute_result"
    }
   ],
   "source": [
    "re.fit(X_train, y_train)"
   ]
  },
  {
   "cell_type": "code",
   "execution_count": 81,
   "id": "53403a46",
   "metadata": {
    "ExecuteTime": {
     "end_time": "2022-10-06T17:37:49.452672Z",
     "start_time": "2022-10-06T17:37:49.445691Z"
    }
   },
   "outputs": [
    {
     "data": {
      "text/plain": [
       "0.7752808988764045"
      ]
     },
     "execution_count": 81,
     "metadata": {},
     "output_type": "execute_result"
    }
   ],
   "source": [
    "re.score(X_train, y_train)"
   ]
  },
  {
   "cell_type": "code",
   "execution_count": 82,
   "id": "7a013be9",
   "metadata": {
    "ExecuteTime": {
     "end_time": "2022-10-06T17:37:49.460651Z",
     "start_time": "2022-10-06T17:37:49.453669Z"
    }
   },
   "outputs": [
    {
     "data": {
      "text/plain": [
       "0.8268156424581006"
      ]
     },
     "execution_count": 82,
     "metadata": {},
     "output_type": "execute_result"
    }
   ],
   "source": [
    "re.score(X_test, y_test)"
   ]
  },
  {
   "cell_type": "code",
   "execution_count": 83,
   "id": "a4013040",
   "metadata": {
    "ExecuteTime": {
     "end_time": "2022-10-06T17:41:10.048085Z",
     "start_time": "2022-10-06T17:41:10.042100Z"
    }
   },
   "outputs": [],
   "source": [
    "data = pd.read_csv('test.csv')"
   ]
  },
  {
   "cell_type": "code",
   "execution_count": 105,
   "id": "92634b72",
   "metadata": {
    "ExecuteTime": {
     "end_time": "2022-10-06T17:42:12.079248Z",
     "start_time": "2022-10-06T17:42:12.074261Z"
    }
   },
   "outputs": [],
   "source": [
    "y_pred = re.predict(finalData)"
   ]
  },
  {
   "cell_type": "code",
   "execution_count": 115,
   "id": "92d7ae55",
   "metadata": {
    "ExecuteTime": {
     "end_time": "2022-10-06T17:45:56.777163Z",
     "start_time": "2022-10-06T17:45:56.774172Z"
    }
   },
   "outputs": [],
   "source": [
    "x = y_pred.tolist()"
   ]
  },
  {
   "cell_type": "code",
   "execution_count": 116,
   "id": "1e888ea7",
   "metadata": {
    "ExecuteTime": {
     "end_time": "2022-10-06T17:45:57.277260Z",
     "start_time": "2022-10-06T17:45:57.274268Z"
    }
   },
   "outputs": [],
   "source": [
    "y = finalData.PassengerId.tolist()"
   ]
  },
  {
   "cell_type": "code",
   "execution_count": 128,
   "id": "f9122616",
   "metadata": {
    "ExecuteTime": {
     "end_time": "2022-10-06T17:49:49.927184Z",
     "start_time": "2022-10-06T17:49:49.922198Z"
    }
   },
   "outputs": [],
   "source": [
    "df = pd.DataFrame({'PassengerId':y, 'Survived':x})"
   ]
  },
  {
   "cell_type": "code",
   "execution_count": 130,
   "id": "63d254e9",
   "metadata": {
    "ExecuteTime": {
     "end_time": "2022-10-06T17:50:15.725677Z",
     "start_time": "2022-10-06T17:50:15.722684Z"
    }
   },
   "outputs": [],
   "source": [
    "df.set_index('PassengerId', inplace= True)"
   ]
  },
  {
   "cell_type": "code",
   "execution_count": 131,
   "id": "ea38321f",
   "metadata": {
    "ExecuteTime": {
     "end_time": "2022-10-06T17:50:17.225569Z",
     "start_time": "2022-10-06T17:50:17.218621Z"
    }
   },
   "outputs": [
    {
     "data": {
      "text/html": [
       "<div>\n",
       "<style scoped>\n",
       "    .dataframe tbody tr th:only-of-type {\n",
       "        vertical-align: middle;\n",
       "    }\n",
       "\n",
       "    .dataframe tbody tr th {\n",
       "        vertical-align: top;\n",
       "    }\n",
       "\n",
       "    .dataframe thead th {\n",
       "        text-align: right;\n",
       "    }\n",
       "</style>\n",
       "<table border=\"1\" class=\"dataframe\">\n",
       "  <thead>\n",
       "    <tr style=\"text-align: right;\">\n",
       "      <th></th>\n",
       "      <th>Survived</th>\n",
       "    </tr>\n",
       "    <tr>\n",
       "      <th>PassengerId</th>\n",
       "      <th></th>\n",
       "    </tr>\n",
       "  </thead>\n",
       "  <tbody>\n",
       "    <tr>\n",
       "      <th>892</th>\n",
       "      <td>0</td>\n",
       "    </tr>\n",
       "    <tr>\n",
       "      <th>893</th>\n",
       "      <td>0</td>\n",
       "    </tr>\n",
       "    <tr>\n",
       "      <th>894</th>\n",
       "      <td>0</td>\n",
       "    </tr>\n",
       "    <tr>\n",
       "      <th>895</th>\n",
       "      <td>0</td>\n",
       "    </tr>\n",
       "    <tr>\n",
       "      <th>896</th>\n",
       "      <td>1</td>\n",
       "    </tr>\n",
       "    <tr>\n",
       "      <th>...</th>\n",
       "      <td>...</td>\n",
       "    </tr>\n",
       "    <tr>\n",
       "      <th>1305</th>\n",
       "      <td>0</td>\n",
       "    </tr>\n",
       "    <tr>\n",
       "      <th>1306</th>\n",
       "      <td>1</td>\n",
       "    </tr>\n",
       "    <tr>\n",
       "      <th>1307</th>\n",
       "      <td>0</td>\n",
       "    </tr>\n",
       "    <tr>\n",
       "      <th>1308</th>\n",
       "      <td>0</td>\n",
       "    </tr>\n",
       "    <tr>\n",
       "      <th>1309</th>\n",
       "      <td>0</td>\n",
       "    </tr>\n",
       "  </tbody>\n",
       "</table>\n",
       "<p>418 rows × 1 columns</p>\n",
       "</div>"
      ],
      "text/plain": [
       "             Survived\n",
       "PassengerId          \n",
       "892                 0\n",
       "893                 0\n",
       "894                 0\n",
       "895                 0\n",
       "896                 1\n",
       "...               ...\n",
       "1305                0\n",
       "1306                1\n",
       "1307                0\n",
       "1308                0\n",
       "1309                0\n",
       "\n",
       "[418 rows x 1 columns]"
      ]
     },
     "execution_count": 131,
     "metadata": {},
     "output_type": "execute_result"
    }
   ],
   "source": [
    "df"
   ]
  },
  {
   "cell_type": "code",
   "execution_count": 132,
   "id": "79288a06",
   "metadata": {
    "ExecuteTime": {
     "end_time": "2022-10-06T17:50:20.774795Z",
     "start_time": "2022-10-06T17:50:20.770807Z"
    }
   },
   "outputs": [],
   "source": [
    "df.to_csv('kaggle.csv')"
   ]
  }
 ],
 "metadata": {
  "kernelspec": {
   "display_name": "Python 3 (ipykernel)",
   "language": "python",
   "name": "python3"
  },
  "language_info": {
   "codemirror_mode": {
    "name": "ipython",
    "version": 3
   },
   "file_extension": ".py",
   "mimetype": "text/x-python",
   "name": "python",
   "nbconvert_exporter": "python",
   "pygments_lexer": "ipython3",
   "version": "3.9.7"
  }
 },
 "nbformat": 4,
 "nbformat_minor": 5
}
