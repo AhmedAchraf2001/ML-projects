{
 "cells": [
  {
   "cell_type": "markdown",
   "id": "a9515a9c",
   "metadata": {
    "ExecuteTime": {
     "end_time": "2022-10-06T16:42:31.373673Z",
     "start_time": "2022-10-06T16:42:31.353726Z"
    }
   },
   "source": [
    "<img src='Titanic_Portside_Diagram.jpg' height=\"1000px\" width=\"80%\">"
   ]
  },
  {
   "cell_type": "code",
   "execution_count": 53,
   "id": "b8bd9047",
   "metadata": {
    "ExecuteTime": {
     "end_time": "2022-10-06T17:37:49.190373Z",
     "start_time": "2022-10-06T17:37:49.187381Z"
    }
   },
   "outputs": [],
   "source": [
    "import pandas as pd \n",
    "import numpy as np"
   ]
  },
  {
   "cell_type": "code",
   "execution_count": 54,
   "id": "95a843e4",
   "metadata": {
    "ExecuteTime": {
     "end_time": "2022-10-06T17:37:49.201344Z",
     "start_time": "2022-10-06T17:37:49.191369Z"
    }
   },
   "outputs": [],
   "source": [
    "data = pd.read_csv(\"train.csv\")"
   ]
  },
  {
   "cell_type": "code",
   "execution_count": 55,
   "id": "69e1be9a",
   "metadata": {
    "ExecuteTime": {
     "end_time": "2022-10-06T17:37:49.212313Z",
     "start_time": "2022-10-06T17:37:49.202340Z"
    }
   },
   "outputs": [
    {
     "data": {
      "text/html": [
       "<div>\n",
       "<style scoped>\n",
       "    .dataframe tbody tr th:only-of-type {\n",
       "        vertical-align: middle;\n",
       "    }\n",
       "\n",
       "    .dataframe tbody tr th {\n",
       "        vertical-align: top;\n",
       "    }\n",
       "\n",
       "    .dataframe thead th {\n",
       "        text-align: right;\n",
       "    }\n",
       "</style>\n",
       "<table border=\"1\" class=\"dataframe\">\n",
       "  <thead>\n",
       "    <tr style=\"text-align: right;\">\n",
       "      <th></th>\n",
       "      <th>PassengerId</th>\n",
       "      <th>Survived</th>\n",
       "      <th>Pclass</th>\n",
       "      <th>Name</th>\n",
       "      <th>Sex</th>\n",
       "      <th>Age</th>\n",
       "      <th>SibSp</th>\n",
       "      <th>Parch</th>\n",
       "      <th>Ticket</th>\n",
       "      <th>Fare</th>\n",
       "      <th>Cabin</th>\n",
       "      <th>Embarked</th>\n",
       "    </tr>\n",
       "  </thead>\n",
       "  <tbody>\n",
       "    <tr>\n",
       "      <th>886</th>\n",
       "      <td>887</td>\n",
       "      <td>0</td>\n",
       "      <td>2</td>\n",
       "      <td>Montvila, Rev. Juozas</td>\n",
       "      <td>male</td>\n",
       "      <td>27.0</td>\n",
       "      <td>0</td>\n",
       "      <td>0</td>\n",
       "      <td>211536</td>\n",
       "      <td>13.00</td>\n",
       "      <td>NaN</td>\n",
       "      <td>S</td>\n",
       "    </tr>\n",
       "    <tr>\n",
       "      <th>887</th>\n",
       "      <td>888</td>\n",
       "      <td>1</td>\n",
       "      <td>1</td>\n",
       "      <td>Graham, Miss. Margaret Edith</td>\n",
       "      <td>female</td>\n",
       "      <td>19.0</td>\n",
       "      <td>0</td>\n",
       "      <td>0</td>\n",
       "      <td>112053</td>\n",
       "      <td>30.00</td>\n",
       "      <td>B42</td>\n",
       "      <td>S</td>\n",
       "    </tr>\n",
       "    <tr>\n",
       "      <th>888</th>\n",
       "      <td>889</td>\n",
       "      <td>0</td>\n",
       "      <td>3</td>\n",
       "      <td>Johnston, Miss. Catherine Helen \"Carrie\"</td>\n",
       "      <td>female</td>\n",
       "      <td>NaN</td>\n",
       "      <td>1</td>\n",
       "      <td>2</td>\n",
       "      <td>W./C. 6607</td>\n",
       "      <td>23.45</td>\n",
       "      <td>NaN</td>\n",
       "      <td>S</td>\n",
       "    </tr>\n",
       "    <tr>\n",
       "      <th>889</th>\n",
       "      <td>890</td>\n",
       "      <td>1</td>\n",
       "      <td>1</td>\n",
       "      <td>Behr, Mr. Karl Howell</td>\n",
       "      <td>male</td>\n",
       "      <td>26.0</td>\n",
       "      <td>0</td>\n",
       "      <td>0</td>\n",
       "      <td>111369</td>\n",
       "      <td>30.00</td>\n",
       "      <td>C148</td>\n",
       "      <td>C</td>\n",
       "    </tr>\n",
       "    <tr>\n",
       "      <th>890</th>\n",
       "      <td>891</td>\n",
       "      <td>0</td>\n",
       "      <td>3</td>\n",
       "      <td>Dooley, Mr. Patrick</td>\n",
       "      <td>male</td>\n",
       "      <td>32.0</td>\n",
       "      <td>0</td>\n",
       "      <td>0</td>\n",
       "      <td>370376</td>\n",
       "      <td>7.75</td>\n",
       "      <td>NaN</td>\n",
       "      <td>Q</td>\n",
       "    </tr>\n",
       "  </tbody>\n",
       "</table>\n",
       "</div>"
      ],
      "text/plain": [
       "     PassengerId  Survived  Pclass                                      Name  \\\n",
       "886          887         0       2                     Montvila, Rev. Juozas   \n",
       "887          888         1       1              Graham, Miss. Margaret Edith   \n",
       "888          889         0       3  Johnston, Miss. Catherine Helen \"Carrie\"   \n",
       "889          890         1       1                     Behr, Mr. Karl Howell   \n",
       "890          891         0       3                       Dooley, Mr. Patrick   \n",
       "\n",
       "        Sex   Age  SibSp  Parch      Ticket   Fare Cabin Embarked  \n",
       "886    male  27.0      0      0      211536  13.00   NaN        S  \n",
       "887  female  19.0      0      0      112053  30.00   B42        S  \n",
       "888  female   NaN      1      2  W./C. 6607  23.45   NaN        S  \n",
       "889    male  26.0      0      0      111369  30.00  C148        C  \n",
       "890    male  32.0      0      0      370376   7.75   NaN        Q  "
      ]
     },
     "execution_count": 55,
     "metadata": {},
     "output_type": "execute_result"
    }
   ],
   "source": [
    "data.tail()"
   ]
  },
  {
   "cell_type": "markdown",
   "id": "d9cf39a8",
   "metadata": {},
   "source": [
    "<div> \n",
    "survival - Survival (0 = No; 1 = Yes)<br>\n",
    "class - Passenger Class (1 = 1st; 2 = 2nd; 3 = 3rd)<br>\n",
    "sex - Sex<br>\n",
    "age - Age<br>\n",
    "sibsp - Number of Siblings/Spouses Aboard<br>\n",
    "parch - Number of Parents/Children Aboard<br>\n",
    "ticket - Ticket Number<br>\n",
    "fare - Passenger Fare<br>\n",
    "cabin - Cabin<br>\n",
    "embarked - Port of Embarkation (C = Cherbourg; Q = Queenstown; S = Southampton)<br>\n",
    "boat - Lifeboat (if survived)<br>\n",
    "body - Body number (if did not survive and body was recovered)<br>\n",
    "</div>"
   ]
  },
  {
   "cell_type": "markdown",
   "id": "e33ed79c",
   "metadata": {},
   "source": [
    "# "
   ]
  },
  {
   "cell_type": "code",
   "execution_count": 56,
   "id": "460225b4",
   "metadata": {
    "ExecuteTime": {
     "end_time": "2022-10-06T17:37:49.219296Z",
     "start_time": "2022-10-06T17:37:49.213310Z"
    }
   },
   "outputs": [
    {
     "data": {
      "text/plain": [
       "(891, 12)"
      ]
     },
     "execution_count": 56,
     "metadata": {},
     "output_type": "execute_result"
    }
   ],
   "source": [
    "data.shape"
   ]
  },
  {
   "cell_type": "code",
   "execution_count": 57,
   "id": "daaa8d92",
   "metadata": {
    "ExecuteTime": {
     "end_time": "2022-10-06T17:37:49.229268Z",
     "start_time": "2022-10-06T17:37:49.220293Z"
    }
   },
   "outputs": [
    {
     "data": {
      "text/plain": [
       "PassengerId      0\n",
       "Survived         0\n",
       "Pclass           0\n",
       "Name             0\n",
       "Sex              0\n",
       "Age            177\n",
       "SibSp            0\n",
       "Parch            0\n",
       "Ticket           0\n",
       "Fare             0\n",
       "Cabin          687\n",
       "Embarked         2\n",
       "dtype: int64"
      ]
     },
     "execution_count": 57,
     "metadata": {},
     "output_type": "execute_result"
    }
   ],
   "source": [
    "data.isna().sum()"
   ]
  },
  {
   "cell_type": "code",
   "execution_count": 58,
   "id": "046bb9dc",
   "metadata": {
    "ExecuteTime": {
     "end_time": "2022-10-06T17:37:49.237247Z",
     "start_time": "2022-10-06T17:37:49.230265Z"
    }
   },
   "outputs": [],
   "source": [
    "data.drop(['SibSp', 'Parch', 'Name', 'Ticket', 'Cabin'], axis=1, inplace= True)"
   ]
  },
  {
   "cell_type": "code",
   "execution_count": 59,
   "id": "482fad31",
   "metadata": {
    "ExecuteTime": {
     "end_time": "2022-10-06T17:37:49.246223Z",
     "start_time": "2022-10-06T17:37:49.238245Z"
    },
    "scrolled": true
   },
   "outputs": [
    {
     "data": {
      "text/plain": [
       "count    714.000000\n",
       "mean      29.699118\n",
       "std       14.526497\n",
       "min        0.420000\n",
       "25%       20.125000\n",
       "50%       28.000000\n",
       "75%       38.000000\n",
       "max       80.000000\n",
       "Name: Age, dtype: float64"
      ]
     },
     "execution_count": 59,
     "metadata": {},
     "output_type": "execute_result"
    }
   ],
   "source": [
    "data.Age.describe()"
   ]
  },
  {
   "cell_type": "code",
   "execution_count": 60,
   "id": "78d2e5f4",
   "metadata": {
    "ExecuteTime": {
     "end_time": "2022-10-06T17:37:49.251210Z",
     "start_time": "2022-10-06T17:37:49.247220Z"
    },
    "scrolled": true
   },
   "outputs": [],
   "source": [
    "c = 0 \n",
    "li = []\n",
    "for u in data.Age.isna():\n",
    "    if u == True :\n",
    "        li.append(c)\n",
    "    c+=1"
   ]
  },
  {
   "cell_type": "code",
   "execution_count": 61,
   "id": "fe87bfe7",
   "metadata": {
    "ExecuteTime": {
     "end_time": "2022-10-06T17:37:49.263177Z",
     "start_time": "2022-10-06T17:37:49.253205Z"
    }
   },
   "outputs": [
    {
     "data": {
      "text/html": [
       "<div>\n",
       "<style scoped>\n",
       "    .dataframe tbody tr th:only-of-type {\n",
       "        vertical-align: middle;\n",
       "    }\n",
       "\n",
       "    .dataframe tbody tr th {\n",
       "        vertical-align: top;\n",
       "    }\n",
       "\n",
       "    .dataframe thead th {\n",
       "        text-align: right;\n",
       "    }\n",
       "</style>\n",
       "<table border=\"1\" class=\"dataframe\">\n",
       "  <thead>\n",
       "    <tr style=\"text-align: right;\">\n",
       "      <th></th>\n",
       "      <th></th>\n",
       "      <th>Age</th>\n",
       "    </tr>\n",
       "    <tr>\n",
       "      <th>Pclass</th>\n",
       "      <th>Sex</th>\n",
       "      <th></th>\n",
       "    </tr>\n",
       "  </thead>\n",
       "  <tbody>\n",
       "    <tr>\n",
       "      <th rowspan=\"2\" valign=\"top\">1</th>\n",
       "      <th>female</th>\n",
       "      <td>34.611765</td>\n",
       "    </tr>\n",
       "    <tr>\n",
       "      <th>male</th>\n",
       "      <td>41.281386</td>\n",
       "    </tr>\n",
       "    <tr>\n",
       "      <th rowspan=\"2\" valign=\"top\">2</th>\n",
       "      <th>female</th>\n",
       "      <td>28.722973</td>\n",
       "    </tr>\n",
       "    <tr>\n",
       "      <th>male</th>\n",
       "      <td>30.740707</td>\n",
       "    </tr>\n",
       "    <tr>\n",
       "      <th rowspan=\"2\" valign=\"top\">3</th>\n",
       "      <th>female</th>\n",
       "      <td>21.750000</td>\n",
       "    </tr>\n",
       "    <tr>\n",
       "      <th>male</th>\n",
       "      <td>26.507589</td>\n",
       "    </tr>\n",
       "  </tbody>\n",
       "</table>\n",
       "</div>"
      ],
      "text/plain": [
       "                     Age\n",
       "Pclass Sex              \n",
       "1      female  34.611765\n",
       "       male    41.281386\n",
       "2      female  28.722973\n",
       "       male    30.740707\n",
       "3      female  21.750000\n",
       "       male    26.507589"
      ]
     },
     "execution_count": 61,
     "metadata": {},
     "output_type": "execute_result"
    }
   ],
   "source": [
    "g = data.groupby(['Pclass', 'Sex']).agg({'Age':'mean'})\n",
    "g"
   ]
  },
  {
   "cell_type": "code",
   "execution_count": 62,
   "id": "008fd689",
   "metadata": {
    "ExecuteTime": {
     "end_time": "2022-10-06T17:37:49.269162Z",
     "start_time": "2022-10-06T17:37:49.264175Z"
    }
   },
   "outputs": [],
   "source": [
    "ages = g.Age.tolist()"
   ]
  },
  {
   "cell_type": "code",
   "execution_count": 63,
   "id": "d0e91340",
   "metadata": {
    "ExecuteTime": {
     "end_time": "2022-10-06T17:37:49.290106Z",
     "start_time": "2022-10-06T17:37:49.270159Z"
    }
   },
   "outputs": [
    {
     "name": "stderr",
     "output_type": "stream",
     "text": [
      "C:\\Users\\10\\AppData\\Local\\Temp/ipykernel_15940/2957573702.py:5: SettingWithCopyWarning: \n",
      "A value is trying to be set on a copy of a slice from a DataFrame\n",
      "\n",
      "See the caveats in the documentation: https://pandas.pydata.org/pandas-docs/stable/user_guide/indexing.html#returning-a-view-versus-a-copy\n",
      "  data.Age[(data.Sex == i) & (data.Pclass == j)] = data.Age[(data.Sex == i) & (data.Pclass == j)].fillna(ages.pop(0))\n"
     ]
    }
   ],
   "source": [
    "_class = [1, 2, 3]\n",
    "sex = ['female', 'male']\n",
    "for j in _class:\n",
    "    for i in sex:\n",
    "        data.Age[(data.Sex == i) & (data.Pclass == j)] = data.Age[(data.Sex == i) & (data.Pclass == j)].fillna(ages.pop(0))"
   ]
  },
  {
   "cell_type": "code",
   "execution_count": 64,
   "id": "5de04a4e",
   "metadata": {
    "ExecuteTime": {
     "end_time": "2022-10-06T17:37:49.295093Z",
     "start_time": "2022-10-06T17:37:49.291103Z"
    }
   },
   "outputs": [
    {
     "data": {
      "text/plain": [
       "0"
      ]
     },
     "execution_count": 64,
     "metadata": {},
     "output_type": "execute_result"
    }
   ],
   "source": [
    "data.Age.isna().sum()"
   ]
  },
  {
   "cell_type": "code",
   "execution_count": 65,
   "id": "153e94b6",
   "metadata": {
    "ExecuteTime": {
     "end_time": "2022-10-06T17:37:49.303072Z",
     "start_time": "2022-10-06T17:37:49.296091Z"
    }
   },
   "outputs": [],
   "source": [
    "data.Fare.fillna(data.Fare.mean(), inplace= True)"
   ]
  },
  {
   "cell_type": "code",
   "execution_count": 66,
   "id": "83871da9",
   "metadata": {
    "ExecuteTime": {
     "end_time": "2022-10-06T17:37:49.315038Z",
     "start_time": "2022-10-06T17:37:49.304069Z"
    },
    "scrolled": true
   },
   "outputs": [
    {
     "data": {
      "text/html": [
       "<div>\n",
       "<style scoped>\n",
       "    .dataframe tbody tr th:only-of-type {\n",
       "        vertical-align: middle;\n",
       "    }\n",
       "\n",
       "    .dataframe tbody tr th {\n",
       "        vertical-align: top;\n",
       "    }\n",
       "\n",
       "    .dataframe thead th {\n",
       "        text-align: right;\n",
       "    }\n",
       "</style>\n",
       "<table border=\"1\" class=\"dataframe\">\n",
       "  <thead>\n",
       "    <tr style=\"text-align: right;\">\n",
       "      <th></th>\n",
       "      <th>PassengerId</th>\n",
       "      <th>Survived</th>\n",
       "      <th>Pclass</th>\n",
       "      <th>Sex</th>\n",
       "      <th>Age</th>\n",
       "      <th>Fare</th>\n",
       "      <th>Embarked</th>\n",
       "    </tr>\n",
       "  </thead>\n",
       "  <tbody>\n",
       "    <tr>\n",
       "      <th>0</th>\n",
       "      <td>1</td>\n",
       "      <td>0</td>\n",
       "      <td>3</td>\n",
       "      <td>male</td>\n",
       "      <td>22.0</td>\n",
       "      <td>7.2500</td>\n",
       "      <td>S</td>\n",
       "    </tr>\n",
       "    <tr>\n",
       "      <th>1</th>\n",
       "      <td>2</td>\n",
       "      <td>1</td>\n",
       "      <td>1</td>\n",
       "      <td>female</td>\n",
       "      <td>38.0</td>\n",
       "      <td>71.2833</td>\n",
       "      <td>C</td>\n",
       "    </tr>\n",
       "    <tr>\n",
       "      <th>2</th>\n",
       "      <td>3</td>\n",
       "      <td>1</td>\n",
       "      <td>3</td>\n",
       "      <td>female</td>\n",
       "      <td>26.0</td>\n",
       "      <td>7.9250</td>\n",
       "      <td>S</td>\n",
       "    </tr>\n",
       "    <tr>\n",
       "      <th>3</th>\n",
       "      <td>4</td>\n",
       "      <td>1</td>\n",
       "      <td>1</td>\n",
       "      <td>female</td>\n",
       "      <td>35.0</td>\n",
       "      <td>53.1000</td>\n",
       "      <td>S</td>\n",
       "    </tr>\n",
       "    <tr>\n",
       "      <th>4</th>\n",
       "      <td>5</td>\n",
       "      <td>0</td>\n",
       "      <td>3</td>\n",
       "      <td>male</td>\n",
       "      <td>35.0</td>\n",
       "      <td>8.0500</td>\n",
       "      <td>S</td>\n",
       "    </tr>\n",
       "  </tbody>\n",
       "</table>\n",
       "</div>"
      ],
      "text/plain": [
       "   PassengerId  Survived  Pclass     Sex   Age     Fare Embarked\n",
       "0            1         0       3    male  22.0   7.2500        S\n",
       "1            2         1       1  female  38.0  71.2833        C\n",
       "2            3         1       3  female  26.0   7.9250        S\n",
       "3            4         1       1  female  35.0  53.1000        S\n",
       "4            5         0       3    male  35.0   8.0500        S"
      ]
     },
     "execution_count": 66,
     "metadata": {},
     "output_type": "execute_result"
    }
   ],
   "source": [
    "data.head()"
   ]
  },
  {
   "cell_type": "code",
   "execution_count": 67,
   "id": "d095eb78",
   "metadata": {
    "ExecuteTime": {
     "end_time": "2022-10-06T17:37:49.323018Z",
     "start_time": "2022-10-06T17:37:49.316036Z"
    }
   },
   "outputs": [],
   "source": [
    "df = pd.get_dummies(data['Embarked'])\n",
    "sexDf = pd.get_dummies(data['Sex'])"
   ]
  },
  {
   "cell_type": "code",
   "execution_count": 68,
   "id": "852e8fe5",
   "metadata": {
    "ExecuteTime": {
     "end_time": "2022-10-06T17:37:49.329999Z",
     "start_time": "2022-10-06T17:37:49.324015Z"
    }
   },
   "outputs": [],
   "source": [
    "newData = pd.concat([data, sexDf, df], axis= 1)"
   ]
  },
  {
   "cell_type": "code",
   "execution_count": 69,
   "id": "7bca7409",
   "metadata": {
    "ExecuteTime": {
     "end_time": "2022-10-06T17:37:49.337978Z",
     "start_time": "2022-10-06T17:37:49.330997Z"
    }
   },
   "outputs": [],
   "source": [
    "newData.drop(['Sex', 'Embarked'], axis=1, inplace= True)"
   ]
  },
  {
   "cell_type": "markdown",
   "id": "1705e52e",
   "metadata": {},
   "source": [
    "# "
   ]
  },
  {
   "cell_type": "markdown",
   "id": "2413e67b",
   "metadata": {},
   "source": [
    "# make a column to specify if he was alone or not"
   ]
  },
  {
   "cell_type": "markdown",
   "id": "7cdb80f5",
   "metadata": {},
   "source": [
    "# model"
   ]
  },
  {
   "cell_type": "code",
   "execution_count": 70,
   "id": "4592b347",
   "metadata": {
    "ExecuteTime": {
     "end_time": "2022-10-06T17:37:49.343962Z",
     "start_time": "2022-10-06T17:37:49.337978Z"
    }
   },
   "outputs": [],
   "source": [
    "from sklearn.model_selection import train_test_split\n",
    "from sklearn.preprocessing import normalize"
   ]
  },
  {
   "cell_type": "code",
   "execution_count": 71,
   "id": "ad703436",
   "metadata": {
    "ExecuteTime": {
     "end_time": "2022-10-06T17:37:49.353935Z",
     "start_time": "2022-10-06T17:37:49.344960Z"
    }
   },
   "outputs": [],
   "source": [
    "norData = normalize(newData[['Fare', 'Age']])"
   ]
  },
  {
   "cell_type": "code",
   "execution_count": 72,
   "id": "d0bc6fd9",
   "metadata": {
    "ExecuteTime": {
     "end_time": "2022-10-06T17:37:49.360916Z",
     "start_time": "2022-10-06T17:37:49.354932Z"
    }
   },
   "outputs": [],
   "source": [
    "norData = pd.DataFrame(norData, columns=['fare', 'age'])"
   ]
  },
  {
   "cell_type": "code",
   "execution_count": 73,
   "id": "b2475f96",
   "metadata": {
    "ExecuteTime": {
     "end_time": "2022-10-06T17:37:49.368895Z",
     "start_time": "2022-10-06T17:37:49.361913Z"
    }
   },
   "outputs": [],
   "source": [
    "finalData = pd.concat([newData, norData], axis= 1)"
   ]
  },
  {
   "cell_type": "code",
   "execution_count": 74,
   "id": "cecc4e2c",
   "metadata": {
    "ExecuteTime": {
     "end_time": "2022-10-06T17:37:49.375877Z",
     "start_time": "2022-10-06T17:37:49.369892Z"
    }
   },
   "outputs": [],
   "source": [
    "finalData.drop(['Age', 'Fare'], axis=1, inplace= True)"
   ]
  },
  {
   "cell_type": "code",
   "execution_count": 75,
   "id": "37bd5331",
   "metadata": {
    "ExecuteTime": {
     "end_time": "2022-10-06T17:37:49.388841Z",
     "start_time": "2022-10-06T17:37:49.376874Z"
    }
   },
   "outputs": [
    {
     "data": {
      "text/html": [
       "<div>\n",
       "<style scoped>\n",
       "    .dataframe tbody tr th:only-of-type {\n",
       "        vertical-align: middle;\n",
       "    }\n",
       "\n",
       "    .dataframe tbody tr th {\n",
       "        vertical-align: top;\n",
       "    }\n",
       "\n",
       "    .dataframe thead th {\n",
       "        text-align: right;\n",
       "    }\n",
       "</style>\n",
       "<table border=\"1\" class=\"dataframe\">\n",
       "  <thead>\n",
       "    <tr style=\"text-align: right;\">\n",
       "      <th></th>\n",
       "      <th>PassengerId</th>\n",
       "      <th>Survived</th>\n",
       "      <th>Pclass</th>\n",
       "      <th>female</th>\n",
       "      <th>male</th>\n",
       "      <th>C</th>\n",
       "      <th>Q</th>\n",
       "      <th>S</th>\n",
       "      <th>fare</th>\n",
       "      <th>age</th>\n",
       "    </tr>\n",
       "  </thead>\n",
       "  <tbody>\n",
       "    <tr>\n",
       "      <th>0</th>\n",
       "      <td>1</td>\n",
       "      <td>0</td>\n",
       "      <td>3</td>\n",
       "      <td>0</td>\n",
       "      <td>1</td>\n",
       "      <td>0</td>\n",
       "      <td>0</td>\n",
       "      <td>1</td>\n",
       "      <td>0.312988</td>\n",
       "      <td>0.949757</td>\n",
       "    </tr>\n",
       "    <tr>\n",
       "      <th>1</th>\n",
       "      <td>2</td>\n",
       "      <td>1</td>\n",
       "      <td>1</td>\n",
       "      <td>1</td>\n",
       "      <td>0</td>\n",
       "      <td>1</td>\n",
       "      <td>0</td>\n",
       "      <td>0</td>\n",
       "      <td>0.882444</td>\n",
       "      <td>0.470417</td>\n",
       "    </tr>\n",
       "    <tr>\n",
       "      <th>2</th>\n",
       "      <td>3</td>\n",
       "      <td>1</td>\n",
       "      <td>3</td>\n",
       "      <td>1</td>\n",
       "      <td>0</td>\n",
       "      <td>0</td>\n",
       "      <td>0</td>\n",
       "      <td>1</td>\n",
       "      <td>0.291564</td>\n",
       "      <td>0.956551</td>\n",
       "    </tr>\n",
       "    <tr>\n",
       "      <th>3</th>\n",
       "      <td>4</td>\n",
       "      <td>1</td>\n",
       "      <td>1</td>\n",
       "      <td>1</td>\n",
       "      <td>0</td>\n",
       "      <td>0</td>\n",
       "      <td>0</td>\n",
       "      <td>1</td>\n",
       "      <td>0.834942</td>\n",
       "      <td>0.550338</td>\n",
       "    </tr>\n",
       "    <tr>\n",
       "      <th>4</th>\n",
       "      <td>5</td>\n",
       "      <td>0</td>\n",
       "      <td>3</td>\n",
       "      <td>0</td>\n",
       "      <td>1</td>\n",
       "      <td>0</td>\n",
       "      <td>0</td>\n",
       "      <td>1</td>\n",
       "      <td>0.224148</td>\n",
       "      <td>0.974555</td>\n",
       "    </tr>\n",
       "    <tr>\n",
       "      <th>...</th>\n",
       "      <td>...</td>\n",
       "      <td>...</td>\n",
       "      <td>...</td>\n",
       "      <td>...</td>\n",
       "      <td>...</td>\n",
       "      <td>...</td>\n",
       "      <td>...</td>\n",
       "      <td>...</td>\n",
       "      <td>...</td>\n",
       "      <td>...</td>\n",
       "    </tr>\n",
       "    <tr>\n",
       "      <th>886</th>\n",
       "      <td>887</td>\n",
       "      <td>0</td>\n",
       "      <td>2</td>\n",
       "      <td>0</td>\n",
       "      <td>1</td>\n",
       "      <td>0</td>\n",
       "      <td>0</td>\n",
       "      <td>1</td>\n",
       "      <td>0.433816</td>\n",
       "      <td>0.901002</td>\n",
       "    </tr>\n",
       "    <tr>\n",
       "      <th>887</th>\n",
       "      <td>888</td>\n",
       "      <td>1</td>\n",
       "      <td>1</td>\n",
       "      <td>1</td>\n",
       "      <td>0</td>\n",
       "      <td>0</td>\n",
       "      <td>0</td>\n",
       "      <td>1</td>\n",
       "      <td>0.844819</td>\n",
       "      <td>0.535052</td>\n",
       "    </tr>\n",
       "    <tr>\n",
       "      <th>888</th>\n",
       "      <td>889</td>\n",
       "      <td>0</td>\n",
       "      <td>3</td>\n",
       "      <td>1</td>\n",
       "      <td>0</td>\n",
       "      <td>0</td>\n",
       "      <td>0</td>\n",
       "      <td>1</td>\n",
       "      <td>0.733183</td>\n",
       "      <td>0.680031</td>\n",
       "    </tr>\n",
       "    <tr>\n",
       "      <th>889</th>\n",
       "      <td>890</td>\n",
       "      <td>1</td>\n",
       "      <td>1</td>\n",
       "      <td>0</td>\n",
       "      <td>1</td>\n",
       "      <td>1</td>\n",
       "      <td>0</td>\n",
       "      <td>0</td>\n",
       "      <td>0.755689</td>\n",
       "      <td>0.654931</td>\n",
       "    </tr>\n",
       "    <tr>\n",
       "      <th>890</th>\n",
       "      <td>891</td>\n",
       "      <td>0</td>\n",
       "      <td>3</td>\n",
       "      <td>0</td>\n",
       "      <td>1</td>\n",
       "      <td>0</td>\n",
       "      <td>1</td>\n",
       "      <td>0</td>\n",
       "      <td>0.235383</td>\n",
       "      <td>0.971903</td>\n",
       "    </tr>\n",
       "  </tbody>\n",
       "</table>\n",
       "<p>891 rows × 10 columns</p>\n",
       "</div>"
      ],
      "text/plain": [
       "     PassengerId  Survived  Pclass  female  male  C  Q  S      fare       age\n",
       "0              1         0       3       0     1  0  0  1  0.312988  0.949757\n",
       "1              2         1       1       1     0  1  0  0  0.882444  0.470417\n",
       "2              3         1       3       1     0  0  0  1  0.291564  0.956551\n",
       "3              4         1       1       1     0  0  0  1  0.834942  0.550338\n",
       "4              5         0       3       0     1  0  0  1  0.224148  0.974555\n",
       "..           ...       ...     ...     ...   ... .. .. ..       ...       ...\n",
       "886          887         0       2       0     1  0  0  1  0.433816  0.901002\n",
       "887          888         1       1       1     0  0  0  1  0.844819  0.535052\n",
       "888          889         0       3       1     0  0  0  1  0.733183  0.680031\n",
       "889          890         1       1       0     1  1  0  0  0.755689  0.654931\n",
       "890          891         0       3       0     1  0  1  0  0.235383  0.971903\n",
       "\n",
       "[891 rows x 10 columns]"
      ]
     },
     "execution_count": 75,
     "metadata": {},
     "output_type": "execute_result"
    }
   ],
   "source": [
    "finalData"
   ]
  },
  {
   "cell_type": "code",
   "execution_count": 76,
   "id": "96561782",
   "metadata": {
    "ExecuteTime": {
     "end_time": "2022-10-06T17:37:49.396820Z",
     "start_time": "2022-10-06T17:37:49.390836Z"
    }
   },
   "outputs": [],
   "source": [
    "X = finalData.drop('Survived', axis= 1)\n",
    "y = finalData['Survived']"
   ]
  },
  {
   "cell_type": "code",
   "execution_count": 77,
   "id": "ad9220cc",
   "metadata": {
    "ExecuteTime": {
     "end_time": "2022-10-06T17:37:49.404799Z",
     "start_time": "2022-10-06T17:37:49.397818Z"
    }
   },
   "outputs": [],
   "source": [
    "X_train, X_test, y_train, y_test = train_test_split(X, y, test_size=0.2, random_state=13)"
   ]
  },
  {
   "cell_type": "markdown",
   "id": "cfeb0a03",
   "metadata": {},
   "source": [
    "# "
   ]
  },
  {
   "cell_type": "code",
   "execution_count": 78,
   "id": "e4c070ef",
   "metadata": {
    "ExecuteTime": {
     "end_time": "2022-10-06T17:37:49.411780Z",
     "start_time": "2022-10-06T17:37:49.405796Z"
    }
   },
   "outputs": [],
   "source": [
    "from sklearn.linear_model import LogisticRegression"
   ]
  },
  {
   "cell_type": "code",
   "execution_count": 79,
   "id": "a5cd79e6",
   "metadata": {
    "ExecuteTime": {
     "end_time": "2022-10-06T17:37:49.418761Z",
     "start_time": "2022-10-06T17:37:49.412779Z"
    }
   },
   "outputs": [],
   "source": [
    "re = LogisticRegression()"
   ]
  },
  {
   "cell_type": "code",
   "execution_count": 80,
   "id": "ad196d80",
   "metadata": {
    "ExecuteTime": {
     "end_time": "2022-10-06T17:37:49.444693Z",
     "start_time": "2022-10-06T17:37:49.419759Z"
    }
   },
   "outputs": [
    {
     "data": {
      "text/plain": [
       "LogisticRegression()"
      ]
     },
     "execution_count": 80,
     "metadata": {},
     "output_type": "execute_result"
    }
   ],
   "source": [
    "re.fit(X_train, y_train)"
   ]
  },
  {
   "cell_type": "code",
   "execution_count": 81,
   "id": "feee4d49",
   "metadata": {
    "ExecuteTime": {
     "end_time": "2022-10-06T17:37:49.452672Z",
     "start_time": "2022-10-06T17:37:49.445691Z"
    }
   },
   "outputs": [
    {
     "data": {
      "text/plain": [
       "0.7752808988764045"
      ]
     },
     "execution_count": 81,
     "metadata": {},
     "output_type": "execute_result"
    }
   ],
   "source": [
    "re.score(X_train, y_train)"
   ]
  },
  {
   "cell_type": "code",
   "execution_count": 82,
   "id": "5d80c249",
   "metadata": {
    "ExecuteTime": {
     "end_time": "2022-10-06T17:37:49.460651Z",
     "start_time": "2022-10-06T17:37:49.453669Z"
    }
   },
   "outputs": [
    {
     "data": {
      "text/plain": [
       "0.8268156424581006"
      ]
     },
     "execution_count": 82,
     "metadata": {},
     "output_type": "execute_result"
    }
   ],
   "source": [
    "re.score(X_test, y_test)"
   ]
  }
 ],
 "metadata": {
  "kernelspec": {
   "display_name": "Python 3 (ipykernel)",
   "language": "python",
   "name": "python3"
  },
  "language_info": {
   "codemirror_mode": {
    "name": "ipython",
    "version": 3
   },
   "file_extension": ".py",
   "mimetype": "text/x-python",
   "name": "python",
   "nbconvert_exporter": "python",
   "pygments_lexer": "ipython3",
   "version": "3.9.7"
  }
 },
 "nbformat": 4,
 "nbformat_minor": 5
}
