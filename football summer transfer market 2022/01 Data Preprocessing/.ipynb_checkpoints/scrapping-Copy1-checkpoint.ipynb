{
 "cells": [
  {
   "cell_type": "code",
   "execution_count": 1,
   "id": "2d95f16c",
   "metadata": {
    "ExecuteTime": {
     "end_time": "2022-09-16T20:51:43.634691Z",
     "start_time": "2022-09-16T20:51:42.507227Z"
    }
   },
   "outputs": [
    {
     "name": "stderr",
     "output_type": "stream",
     "text": [
      "C:\\Users\\10\\anaconda3\\lib\\site-packages\\requests\\__init__.py:89: RequestsDependencyWarning: urllib3 (1.26.12) or chardet (3.0.4) doesn't match a supported version!\n",
      "  warnings.warn(\"urllib3 ({}) or chardet ({}) doesn't match a supported \"\n"
     ]
    }
   ],
   "source": [
    "import numpy as np\n",
    "import pandas as pd\n",
    "import io, requests\n",
    "from selenium import webdriver\n",
    "from selenium.webdriver.common.keys import Keys\n",
    "from selenium.webdriver.common.by import By\n",
    "from selenium.webdriver.support.relative_locator import locate_with\n",
    "import time"
   ]
  },
  {
   "cell_type": "code",
   "execution_count": 20,
   "id": "724fbb11",
   "metadata": {
    "ExecuteTime": {
     "end_time": "2022-09-16T20:57:13.567424Z",
     "start_time": "2022-09-16T20:57:13.514566Z"
    }
   },
   "outputs": [],
   "source": [
    "cdata = pd.read_csv('Cleaned Data')"
   ]
  },
  {
   "cell_type": "code",
   "execution_count": 21,
   "id": "4004ccd8",
   "metadata": {
    "ExecuteTime": {
     "end_time": "2022-09-16T20:57:13.952479Z",
     "start_time": "2022-09-16T20:57:13.945499Z"
    }
   },
   "outputs": [],
   "source": [
    "cdata.drop(cdata.columns[0], axis=1, inplace= True)"
   ]
  },
  {
   "cell_type": "code",
   "execution_count": 30,
   "id": "360c939a",
   "metadata": {
    "ExecuteTime": {
     "end_time": "2022-09-16T20:58:19.439344Z",
     "start_time": "2022-09-16T20:58:19.435364Z"
    }
   },
   "outputs": [
    {
     "data": {
      "text/plain": [
       "(30171, 8)"
      ]
     },
     "execution_count": 30,
     "metadata": {},
     "output_type": "execute_result"
    }
   ],
   "source": [
    "cdata.shape"
   ]
  },
  {
   "cell_type": "code",
   "execution_count": 25,
   "id": "7d5c2e7c",
   "metadata": {
    "ExecuteTime": {
     "end_time": "2022-09-16T20:57:35.567672Z",
     "start_time": "2022-09-16T20:57:35.554713Z"
    },
    "scrolled": true
   },
   "outputs": [
    {
     "data": {
      "text/plain": [
       "name                      3\n",
       "position                  0\n",
       "age                       0\n",
       "origin_club               0\n",
       "country_origin_club     889\n",
       "new_club                  0\n",
       "country_new_club       5387\n",
       "cost                      0\n",
       "dtype: int64"
      ]
     },
     "execution_count": 25,
     "metadata": {},
     "output_type": "execute_result"
    }
   ],
   "source": [
    "cdata.isna().sum()"
   ]
  },
  {
   "cell_type": "code",
   "execution_count": 26,
   "id": "23d92389",
   "metadata": {
    "ExecuteTime": {
     "end_time": "2022-09-16T20:57:36.614199Z",
     "start_time": "2022-09-16T20:57:36.602230Z"
    }
   },
   "outputs": [],
   "source": [
    "c = 0\n",
    "l = []\n",
    "for u in cdata.name.isna():\n",
    "    if u == True:\n",
    "        l.append(c)\n",
    "    c+=1"
   ]
  },
  {
   "cell_type": "code",
   "execution_count": 28,
   "id": "eda03f17",
   "metadata": {
    "ExecuteTime": {
     "end_time": "2022-09-16T20:57:47.010342Z",
     "start_time": "2022-09-16T20:57:47.003361Z"
    }
   },
   "outputs": [],
   "source": [
    "cdata.drop(l,axis=0,inplace=True)"
   ]
  },
  {
   "cell_type": "code",
   "execution_count": 188,
   "id": "b6be9fe0",
   "metadata": {
    "ExecuteTime": {
     "end_time": "2022-09-17T01:52:08.626241Z",
     "start_time": "2022-09-17T01:52:08.613259Z"
    }
   },
   "outputs": [],
   "source": [
    "data = pd.read_csv('scraped_data')"
   ]
  },
  {
   "cell_type": "code",
   "execution_count": 189,
   "id": "ffc92358",
   "metadata": {
    "ExecuteTime": {
     "end_time": "2022-09-17T01:52:08.631224Z",
     "start_time": "2022-09-17T01:52:08.627235Z"
    }
   },
   "outputs": [],
   "source": [
    "data.drop(data.columns[0], axis=1, inplace= True)"
   ]
  },
  {
   "cell_type": "code",
   "execution_count": 175,
   "id": "4214b678",
   "metadata": {
    "ExecuteTime": {
     "end_time": "2022-09-17T01:08:01.516382Z",
     "start_time": "2022-09-17T01:08:01.512393Z"
    }
   },
   "outputs": [],
   "source": [
    "counter = data.shape[0]"
   ]
  },
  {
   "cell_type": "code",
   "execution_count": 177,
   "id": "5e4605ae",
   "metadata": {
    "ExecuteTime": {
     "end_time": "2022-09-17T01:52:08.505423Z",
     "start_time": "2022-09-17T01:08:41.945936Z"
    },
    "scrolled": true
   },
   "outputs": [],
   "source": [
    "name = cdata.name[counter+1:2000]\n",
    "ffx = webdriver.Chrome()\n",
    "\n",
    "ffx.get(\"https://www.transfermarkt.com\")\n",
    "\n",
    "bigLi = []\n",
    "\n",
    "\n",
    "for e in name:\n",
    "\n",
    "    li = []\n",
    "    counter+=1\n",
    "    li.append(e) \n",
    "    try:\n",
    "        # Search with player name\n",
    "        ffx.find_element(By.CSS_SELECTOR, '[class=\"tm-header__input--search-field\"]').send_keys(e) \n",
    "\n",
    "\n",
    "        # press Enter Key\n",
    "        ffx.find_element(By.CSS_SELECTOR,'[class=\"tm-header__input--search-send\"]').send_keys(Keys.ENTER) \n",
    "\n",
    "\n",
    "        # get player profile link like :   \" https://www.transfermarkt.com/james-rodriguez/profile/spieler/88103 \"\n",
    "        url = ffx.find_element(By.CSS_SELECTOR,'td[class= \"hauptlink\"]').find_element(By.TAG_NAME,'a').get_attribute('href')\n",
    "    except:\n",
    "        continue\n",
    "    pages = ['leistungsdatenverein', 'nationalmannschaft', 'marktwertverlauf']\n",
    "\n",
    "                #leistungsdatenverein --->  stat page\n",
    "                #nationalmannschaft  --->  natoinal team stat page\n",
    "                #marktwertverlauf   ---> markert value rank\n",
    "\n",
    "    for page in pages:                    # switching betweem website pages from change this part  ----/profile/----\n",
    "        x = url.split('/')\n",
    "        x[4] = page\n",
    "        for i in range(len(x)):\n",
    "            x[i] = x[i] + \"/\"\n",
    "        url = ''.join(str(u) for u in x)\n",
    "\n",
    "        ffx.get(url)\n",
    "\n",
    "\n",
    "\n",
    "        if page == 'leistungsdatenverein':  \n",
    "            try:\n",
    "                stat = ffx.find_element(By.CSS_SELECTOR, 'div[id=\"yw1\"]').find_element(By.TAG_NAME,'tfoot')  \n",
    "                \n",
    "                for i, j in zip(stat.find_elements(By.CSS_SELECTOR, 'td[class=\"zentriert\"]'), range(1,7)):\n",
    "                    li.append(i.get_attribute(\"innerHTML\"))\n",
    "\n",
    "                for x, j in zip(stat.find_elements(By.CSS_SELECTOR, 'td[class=\"rechts\"]'), range(7,9)):\n",
    "                    li.insert(j, x.get_attribute(\"innerHTML\"))\n",
    "            except:\n",
    "                while len(li) < 9 :\n",
    "                    li.append('none')\n",
    "\n",
    "\n",
    "        elif page == 'nationalmannschaft':  \n",
    "            try:\n",
    "                stat = ffx.find_element(By.CSS_SELECTOR, 'div[id=\"yw1\"]').find_element(By.TAG_NAME,'tfoot')\n",
    "                \n",
    "                for i, j in zip(stat.find_elements(By.CSS_SELECTOR, 'td[class=\"zentriert\"]'), range(9,15)):\n",
    "                    li.insert(j, i.get_attribute(\"innerHTML\"))\n",
    "\n",
    "                for x, j in zip(stat.find_elements(By.CSS_SELECTOR, 'td[class=\"rechts\"]'), range(15,17)):\n",
    "                    li.insert(j, x.get_attribute(\"innerHTML\"))\n",
    "            except:\n",
    "                while len(li) < 17 :\n",
    "                    li.append('none')\n",
    "\n",
    "        else:\n",
    "            try:\n",
    "                for i, j in zip(ffx.find_elements(By.CSS_SELECTOR, 'span[class=\"quick-fact__content--large\"]'), range(17,23)):\n",
    "                    li.append(i.get_attribute(\"innerHTML\"))\n",
    "            except :   \n",
    "                while len(li) < 23 :\n",
    "                    li.append('none')\n",
    "\n",
    "    bigLi.append(li)\n",
    "\n",
    "\n",
    "ffx.quit()"
   ]
  },
  {
   "cell_type": "code",
   "execution_count": 178,
   "id": "6b444bdd",
   "metadata": {
    "ExecuteTime": {
     "end_time": "2022-09-17T01:52:08.518348Z",
     "start_time": "2022-09-17T01:52:08.512366Z"
    }
   },
   "outputs": [
    {
     "data": {
      "text/plain": [
       "1999"
      ]
     },
     "execution_count": 178,
     "metadata": {},
     "output_type": "execute_result"
    }
   ],
   "source": [
    "counter"
   ]
  },
  {
   "cell_type": "code",
   "execution_count": 179,
   "id": "ef27ecf8",
   "metadata": {
    "ExecuteTime": {
     "end_time": "2022-09-17T01:52:08.527324Z",
     "start_time": "2022-09-17T01:52:08.519354Z"
    }
   },
   "outputs": [],
   "source": [
    "q = 0\n",
    "for z, i  in zip(bigLi, range(len(bigLi))):\n",
    "    while len(z) < 22 :\n",
    "        z.append('none')\n",
    "    else :\n",
    "        bigLi[i] = bigLi[i][:22]\n",
    "    q+=1"
   ]
  },
  {
   "cell_type": "code",
   "execution_count": 180,
   "id": "fe4229c7",
   "metadata": {
    "ExecuteTime": {
     "end_time": "2022-09-17T01:52:08.536300Z",
     "start_time": "2022-09-17T01:52:08.529319Z"
    }
   },
   "outputs": [],
   "source": [
    "df = pd.DataFrame(bigLi, columns=['names', 'apperance', 'goals', 'assists', 'yellow_card', '2nd_ycard', 'red_card', 'drop','min', 'apperance_NT', 'goals_NT', 'assists_NT', 'yellow_card_NT', '2nd_ycard_NT', 'red_card_NT', 'drop NT','min_NT','world_rank', 'league_rank', 'club_rank', 'National_rank', 'position_rank'])                                     "
   ]
  },
  {
   "cell_type": "code",
   "execution_count": 181,
   "id": "f0c244e7",
   "metadata": {
    "ExecuteTime": {
     "end_time": "2022-09-17T01:52:08.545276Z",
     "start_time": "2022-09-17T01:52:08.537297Z"
    }
   },
   "outputs": [],
   "source": [
    "df.drop(['drop', 'drop NT'], axis= 1, inplace=True)"
   ]
  },
  {
   "cell_type": "code",
   "execution_count": 182,
   "id": "a9b34d21",
   "metadata": {
    "ExecuteTime": {
     "end_time": "2022-09-17T01:52:08.553255Z",
     "start_time": "2022-09-17T01:52:08.546273Z"
    }
   },
   "outputs": [],
   "source": [
    "df.replace('-',0, inplace=True)"
   ]
  },
  {
   "cell_type": "code",
   "execution_count": 183,
   "id": "88434cfb",
   "metadata": {
    "ExecuteTime": {
     "end_time": "2022-09-17T01:52:08.560241Z",
     "start_time": "2022-09-17T01:52:08.554252Z"
    }
   },
   "outputs": [],
   "source": [
    "data = data.append(df, ignore_index=True)"
   ]
  },
  {
   "cell_type": "code",
   "execution_count": 184,
   "id": "667b05ac",
   "metadata": {
    "ExecuteTime": {
     "end_time": "2022-09-17T01:52:08.573202Z",
     "start_time": "2022-09-17T01:52:08.561233Z"
    }
   },
   "outputs": [],
   "source": [
    "df.to_csv('scraped_data')"
   ]
  },
  {
   "cell_type": "code",
   "execution_count": 190,
   "id": "06cab767",
   "metadata": {
    "ExecuteTime": {
     "end_time": "2022-09-17T01:52:08.643191Z",
     "start_time": "2022-09-17T01:52:08.632221Z"
    }
   },
   "outputs": [],
   "source": [
    "data = pd.read_csv('scraped_data')"
   ]
  },
  {
   "cell_type": "code",
   "execution_count": 191,
   "id": "2f85f441",
   "metadata": {
    "ExecuteTime": {
     "end_time": "2022-09-17T01:52:08.648178Z",
     "start_time": "2022-09-17T01:52:08.644189Z"
    }
   },
   "outputs": [],
   "source": [
    "data.drop(data.columns[0], axis=1, inplace= True)"
   ]
  },
  {
   "cell_type": "code",
   "execution_count": 192,
   "id": "ebc1f29f",
   "metadata": {
    "ExecuteTime": {
     "end_time": "2022-09-17T01:52:08.657155Z",
     "start_time": "2022-09-17T01:52:08.649176Z"
    }
   },
   "outputs": [
    {
     "data": {
      "text/plain": [
       "(822, 20)"
      ]
     },
     "execution_count": 192,
     "metadata": {},
     "output_type": "execute_result"
    }
   ],
   "source": [
    "data.shape"
   ]
  },
  {
   "cell_type": "code",
   "execution_count": 193,
   "id": "fec831ca",
   "metadata": {
    "ExecuteTime": {
     "end_time": "2022-09-17T01:52:08.674109Z",
     "start_time": "2022-09-17T01:52:08.658153Z"
    },
    "scrolled": false
   },
   "outputs": [
    {
     "data": {
      "text/html": [
       "<div>\n",
       "<style scoped>\n",
       "    .dataframe tbody tr th:only-of-type {\n",
       "        vertical-align: middle;\n",
       "    }\n",
       "\n",
       "    .dataframe tbody tr th {\n",
       "        vertical-align: top;\n",
       "    }\n",
       "\n",
       "    .dataframe thead th {\n",
       "        text-align: right;\n",
       "    }\n",
       "</style>\n",
       "<table border=\"1\" class=\"dataframe\">\n",
       "  <thead>\n",
       "    <tr style=\"text-align: right;\">\n",
       "      <th></th>\n",
       "      <th>names</th>\n",
       "      <th>apperance</th>\n",
       "      <th>goals</th>\n",
       "      <th>assists</th>\n",
       "      <th>yellow_card</th>\n",
       "      <th>2nd_ycard</th>\n",
       "      <th>red_card</th>\n",
       "      <th>min</th>\n",
       "      <th>apperance_NT</th>\n",
       "      <th>goals_NT</th>\n",
       "      <th>assists_NT</th>\n",
       "      <th>yellow_card_NT</th>\n",
       "      <th>2nd_ycard_NT</th>\n",
       "      <th>red_card_NT</th>\n",
       "      <th>min_NT</th>\n",
       "      <th>world_rank</th>\n",
       "      <th>league_rank</th>\n",
       "      <th>club_rank</th>\n",
       "      <th>National_rank</th>\n",
       "      <th>position_rank</th>\n",
       "    </tr>\n",
       "  </thead>\n",
       "  <tbody>\n",
       "    <tr>\n",
       "      <th>0</th>\n",
       "      <td>Guy Dayan</td>\n",
       "      <td>391</td>\n",
       "      <td>70</td>\n",
       "      <td>34</td>\n",
       "      <td>43</td>\n",
       "      <td>1</td>\n",
       "      <td>1</td>\n",
       "      <td>26.584'</td>\n",
       "      <td>none</td>\n",
       "      <td>none</td>\n",
       "      <td>none</td>\n",
       "      <td>none</td>\n",
       "      <td>none</td>\n",
       "      <td>none</td>\n",
       "      <td>none</td>\n",
       "      <td>none</td>\n",
       "      <td>none</td>\n",
       "      <td>none</td>\n",
       "      <td>none</td>\n",
       "      <td>none</td>\n",
       "    </tr>\n",
       "    <tr>\n",
       "      <th>1</th>\n",
       "      <td>Maksim Volodko</td>\n",
       "      <td>277</td>\n",
       "      <td>20</td>\n",
       "      <td>33</td>\n",
       "      <td>36</td>\n",
       "      <td>0</td>\n",
       "      <td>0</td>\n",
       "      <td>17.496'</td>\n",
       "      <td>33</td>\n",
       "      <td>2</td>\n",
       "      <td>1</td>\n",
       "      <td>6</td>\n",
       "      <td>0</td>\n",
       "      <td>0</td>\n",
       "      <td>2.250'</td>\n",
       "      <td>none</td>\n",
       "      <td>none</td>\n",
       "      <td>none</td>\n",
       "      <td>none</td>\n",
       "      <td>none</td>\n",
       "    </tr>\n",
       "    <tr>\n",
       "      <th>2</th>\n",
       "      <td>Mikhail Bashilov</td>\n",
       "      <td>280</td>\n",
       "      <td>10</td>\n",
       "      <td>2</td>\n",
       "      <td>76</td>\n",
       "      <td>2</td>\n",
       "      <td>0</td>\n",
       "      <td>22.533'</td>\n",
       "      <td>none</td>\n",
       "      <td>none</td>\n",
       "      <td>none</td>\n",
       "      <td>none</td>\n",
       "      <td>none</td>\n",
       "      <td>none</td>\n",
       "      <td>none</td>\n",
       "      <td>none</td>\n",
       "      <td>none</td>\n",
       "      <td>none</td>\n",
       "      <td>none</td>\n",
       "      <td>none</td>\n",
       "    </tr>\n",
       "    <tr>\n",
       "      <th>3</th>\n",
       "      <td>Lorenzo Remedi</td>\n",
       "      <td>241</td>\n",
       "      <td>9</td>\n",
       "      <td>14</td>\n",
       "      <td>55</td>\n",
       "      <td>1</td>\n",
       "      <td>5</td>\n",
       "      <td>16.981'</td>\n",
       "      <td>none</td>\n",
       "      <td>none</td>\n",
       "      <td>none</td>\n",
       "      <td>none</td>\n",
       "      <td>none</td>\n",
       "      <td>none</td>\n",
       "      <td>none</td>\n",
       "      <td>none</td>\n",
       "      <td>none</td>\n",
       "      <td>none</td>\n",
       "      <td>none</td>\n",
       "      <td>none</td>\n",
       "    </tr>\n",
       "    <tr>\n",
       "      <th>4</th>\n",
       "      <td>Ori Tzaadon</td>\n",
       "      <td>117</td>\n",
       "      <td>4</td>\n",
       "      <td>9</td>\n",
       "      <td>23</td>\n",
       "      <td>0</td>\n",
       "      <td>0</td>\n",
       "      <td>8.448'</td>\n",
       "      <td>0</td>\n",
       "      <td>0</td>\n",
       "      <td>0</td>\n",
       "      <td>0</td>\n",
       "      <td>0</td>\n",
       "      <td>0</td>\n",
       "      <td>0</td>\n",
       "      <td>none</td>\n",
       "      <td>none</td>\n",
       "      <td>none</td>\n",
       "      <td>none</td>\n",
       "      <td>none</td>\n",
       "    </tr>\n",
       "  </tbody>\n",
       "</table>\n",
       "</div>"
      ],
      "text/plain": [
       "              names apperance goals assists yellow_card 2nd_ycard red_card  \\\n",
       "0         Guy Dayan       391    70      34          43         1        1   \n",
       "1    Maksim Volodko       277    20      33          36         0        0   \n",
       "2  Mikhail Bashilov       280    10       2          76         2        0   \n",
       "3    Lorenzo Remedi       241     9      14          55         1        5   \n",
       "4       Ori Tzaadon       117     4       9          23         0        0   \n",
       "\n",
       "       min apperance_NT goals_NT assists_NT yellow_card_NT 2nd_ycard_NT  \\\n",
       "0  26.584'         none     none       none           none         none   \n",
       "1  17.496'           33        2          1              6            0   \n",
       "2  22.533'         none     none       none           none         none   \n",
       "3  16.981'         none     none       none           none         none   \n",
       "4   8.448'            0        0          0              0            0   \n",
       "\n",
       "  red_card_NT  min_NT world_rank league_rank club_rank National_rank  \\\n",
       "0        none    none       none        none      none          none   \n",
       "1           0  2.250'       none        none      none          none   \n",
       "2        none    none       none        none      none          none   \n",
       "3        none    none       none        none      none          none   \n",
       "4           0       0       none        none      none          none   \n",
       "\n",
       "  position_rank  \n",
       "0          none  \n",
       "1          none  \n",
       "2          none  \n",
       "3          none  \n",
       "4          none  "
      ]
     },
     "execution_count": 193,
     "metadata": {},
     "output_type": "execute_result"
    }
   ],
   "source": [
    "data.head()"
   ]
  },
  {
   "cell_type": "code",
   "execution_count": 194,
   "id": "45737f23",
   "metadata": {
    "ExecuteTime": {
     "end_time": "2022-09-17T01:52:08.698045Z",
     "start_time": "2022-09-17T01:52:08.675106Z"
    },
    "scrolled": false
   },
   "outputs": [
    {
     "data": {
      "text/html": [
       "<div>\n",
       "<style scoped>\n",
       "    .dataframe tbody tr th:only-of-type {\n",
       "        vertical-align: middle;\n",
       "    }\n",
       "\n",
       "    .dataframe tbody tr th {\n",
       "        vertical-align: top;\n",
       "    }\n",
       "\n",
       "    .dataframe thead th {\n",
       "        text-align: right;\n",
       "    }\n",
       "</style>\n",
       "<table border=\"1\" class=\"dataframe\">\n",
       "  <thead>\n",
       "    <tr style=\"text-align: right;\">\n",
       "      <th></th>\n",
       "      <th>names</th>\n",
       "      <th>apperance</th>\n",
       "      <th>goals</th>\n",
       "      <th>assists</th>\n",
       "      <th>yellow_card</th>\n",
       "      <th>2nd_ycard</th>\n",
       "      <th>red_card</th>\n",
       "      <th>min</th>\n",
       "      <th>apperance_NT</th>\n",
       "      <th>goals_NT</th>\n",
       "      <th>assists_NT</th>\n",
       "      <th>yellow_card_NT</th>\n",
       "      <th>2nd_ycard_NT</th>\n",
       "      <th>red_card_NT</th>\n",
       "      <th>min_NT</th>\n",
       "      <th>world_rank</th>\n",
       "      <th>league_rank</th>\n",
       "      <th>club_rank</th>\n",
       "      <th>National_rank</th>\n",
       "      <th>position_rank</th>\n",
       "    </tr>\n",
       "  </thead>\n",
       "  <tbody>\n",
       "    <tr>\n",
       "      <th>817</th>\n",
       "      <td>Matan Schwartz</td>\n",
       "      <td>none</td>\n",
       "      <td>none</td>\n",
       "      <td>none</td>\n",
       "      <td>none</td>\n",
       "      <td>none</td>\n",
       "      <td>none</td>\n",
       "      <td>none</td>\n",
       "      <td>none</td>\n",
       "      <td>none</td>\n",
       "      <td>none</td>\n",
       "      <td>none</td>\n",
       "      <td>none</td>\n",
       "      <td>none</td>\n",
       "      <td>none</td>\n",
       "      <td>none</td>\n",
       "      <td>none</td>\n",
       "      <td>none</td>\n",
       "      <td>none</td>\n",
       "      <td>none</td>\n",
       "    </tr>\n",
       "    <tr>\n",
       "      <th>818</th>\n",
       "      <td>Meidan Cohen</td>\n",
       "      <td>2</td>\n",
       "      <td>0</td>\n",
       "      <td>0</td>\n",
       "      <td>0</td>\n",
       "      <td>0</td>\n",
       "      <td>0</td>\n",
       "      <td>91'</td>\n",
       "      <td>none</td>\n",
       "      <td>none</td>\n",
       "      <td>none</td>\n",
       "      <td>none</td>\n",
       "      <td>none</td>\n",
       "      <td>none</td>\n",
       "      <td>none</td>\n",
       "      <td>none</td>\n",
       "      <td>none</td>\n",
       "      <td>none</td>\n",
       "      <td>none</td>\n",
       "      <td>none</td>\n",
       "    </tr>\n",
       "    <tr>\n",
       "      <th>819</th>\n",
       "      <td>Giovanni D'Aprile</td>\n",
       "      <td>9</td>\n",
       "      <td>0</td>\n",
       "      <td>0</td>\n",
       "      <td>1</td>\n",
       "      <td>0</td>\n",
       "      <td>0</td>\n",
       "      <td>473'</td>\n",
       "      <td>none</td>\n",
       "      <td>none</td>\n",
       "      <td>none</td>\n",
       "      <td>none</td>\n",
       "      <td>none</td>\n",
       "      <td>none</td>\n",
       "      <td>none</td>\n",
       "      <td>none</td>\n",
       "      <td>none</td>\n",
       "      <td>none</td>\n",
       "      <td>none</td>\n",
       "      <td>none</td>\n",
       "    </tr>\n",
       "    <tr>\n",
       "      <th>820</th>\n",
       "      <td>Chang-won Choi</td>\n",
       "      <td>none</td>\n",
       "      <td>none</td>\n",
       "      <td>none</td>\n",
       "      <td>none</td>\n",
       "      <td>none</td>\n",
       "      <td>none</td>\n",
       "      <td>none</td>\n",
       "      <td>none</td>\n",
       "      <td>none</td>\n",
       "      <td>none</td>\n",
       "      <td>none</td>\n",
       "      <td>none</td>\n",
       "      <td>none</td>\n",
       "      <td>none</td>\n",
       "      <td>none</td>\n",
       "      <td>none</td>\n",
       "      <td>none</td>\n",
       "      <td>none</td>\n",
       "      <td>none</td>\n",
       "    </tr>\n",
       "    <tr>\n",
       "      <th>821</th>\n",
       "      <td>Josip Ljubic</td>\n",
       "      <td>none</td>\n",
       "      <td>none</td>\n",
       "      <td>none</td>\n",
       "      <td>none</td>\n",
       "      <td>none</td>\n",
       "      <td>none</td>\n",
       "      <td>none</td>\n",
       "      <td>none</td>\n",
       "      <td>none</td>\n",
       "      <td>none</td>\n",
       "      <td>none</td>\n",
       "      <td>none</td>\n",
       "      <td>none</td>\n",
       "      <td>none</td>\n",
       "      <td>none</td>\n",
       "      <td>none</td>\n",
       "      <td>none</td>\n",
       "      <td>none</td>\n",
       "      <td>none</td>\n",
       "    </tr>\n",
       "  </tbody>\n",
       "</table>\n",
       "</div>"
      ],
      "text/plain": [
       "                 names apperance goals assists yellow_card 2nd_ycard red_card  \\\n",
       "817     Matan Schwartz      none  none    none        none      none     none   \n",
       "818       Meidan Cohen         2     0       0           0         0        0   \n",
       "819  Giovanni D'Aprile         9     0       0           1         0        0   \n",
       "820     Chang-won Choi      none  none    none        none      none     none   \n",
       "821       Josip Ljubic      none  none    none        none      none     none   \n",
       "\n",
       "      min apperance_NT goals_NT assists_NT yellow_card_NT 2nd_ycard_NT  \\\n",
       "817  none         none     none       none           none         none   \n",
       "818   91'         none     none       none           none         none   \n",
       "819  473'         none     none       none           none         none   \n",
       "820  none         none     none       none           none         none   \n",
       "821  none         none     none       none           none         none   \n",
       "\n",
       "    red_card_NT min_NT world_rank league_rank club_rank National_rank  \\\n",
       "817        none   none       none        none      none          none   \n",
       "818        none   none       none        none      none          none   \n",
       "819        none   none       none        none      none          none   \n",
       "820        none   none       none        none      none          none   \n",
       "821        none   none       none        none      none          none   \n",
       "\n",
       "    position_rank  \n",
       "817          none  \n",
       "818          none  \n",
       "819          none  \n",
       "820          none  \n",
       "821          none  "
      ]
     },
     "execution_count": 194,
     "metadata": {},
     "output_type": "execute_result"
    }
   ],
   "source": [
    "data.tail()"
   ]
  },
  {
   "cell_type": "code",
   "execution_count": null,
   "id": "321ef44d",
   "metadata": {},
   "outputs": [],
   "source": []
  }
 ],
 "metadata": {
  "kernelspec": {
   "display_name": "Python 3 (ipykernel)",
   "language": "python",
   "name": "python3"
  },
  "language_info": {
   "codemirror_mode": {
    "name": "ipython",
    "version": 3
   },
   "file_extension": ".py",
   "mimetype": "text/x-python",
   "name": "python",
   "nbconvert_exporter": "python",
   "pygments_lexer": "ipython3",
   "version": "3.9.7"
  }
 },
 "nbformat": 4,
 "nbformat_minor": 5
}
