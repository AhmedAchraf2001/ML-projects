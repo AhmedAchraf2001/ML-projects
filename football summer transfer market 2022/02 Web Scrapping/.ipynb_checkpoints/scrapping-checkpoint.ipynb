{
 "cells": [
  {
   "cell_type": "code",
   "execution_count": 1,
   "id": "2d95f16c",
   "metadata": {
    "ExecuteTime": {
     "end_time": "2022-09-19T06:49:46.304699Z",
     "start_time": "2022-09-19T06:49:45.783044Z"
    }
   },
   "outputs": [
    {
     "name": "stderr",
     "output_type": "stream",
     "text": [
      "C:\\Users\\10\\anaconda3\\lib\\site-packages\\requests\\__init__.py:89: RequestsDependencyWarning: urllib3 (1.26.12) or chardet (3.0.4) doesn't match a supported version!\n",
      "  warnings.warn(\"urllib3 ({}) or chardet ({}) doesn't match a supported \"\n"
     ]
    }
   ],
   "source": [
    "import numpy as np\n",
    "import pandas as pd\n",
    "import io, requests\n",
    "from selenium import webdriver\n",
    "from selenium.webdriver.common.keys import Keys\n",
    "from selenium.webdriver.common.by import By\n",
    "from selenium.webdriver.support.relative_locator import locate_with\n",
    "import time"
   ]
  },
  {
   "cell_type": "code",
   "execution_count": 2,
   "id": "724fbb11",
   "metadata": {
    "ExecuteTime": {
     "end_time": "2022-09-19T06:49:46.382589Z",
     "start_time": "2022-09-19T06:49:46.305696Z"
    }
   },
   "outputs": [],
   "source": [
    "cdata = pd.read_csv('Cleaned Data')"
   ]
  },
  {
   "cell_type": "code",
   "execution_count": 3,
   "id": "360c939a",
   "metadata": {
    "ExecuteTime": {
     "end_time": "2022-09-19T06:49:46.392488Z",
     "start_time": "2022-09-19T06:49:46.383489Z"
    }
   },
   "outputs": [
    {
     "data": {
      "text/plain": [
       "(30171, 10)"
      ]
     },
     "execution_count": 3,
     "metadata": {},
     "output_type": "execute_result"
    }
   ],
   "source": [
    "cdata.shape"
   ]
  },
  {
   "cell_type": "code",
   "execution_count": 4,
   "id": "7d5c2e7c",
   "metadata": {
    "ExecuteTime": {
     "end_time": "2022-09-19T06:49:46.604667Z",
     "start_time": "2022-09-19T06:49:46.589708Z"
    },
    "scrolled": true
   },
   "outputs": [
    {
     "data": {
      "text/plain": [
       "Unnamed: 0                0\n",
       "Unnamed: 0.1              0\n",
       "name                      3\n",
       "position                  0\n",
       "age                       0\n",
       "origin_club               0\n",
       "country_origin_club     889\n",
       "new_club                  0\n",
       "country_new_club       5387\n",
       "cost                      0\n",
       "dtype: int64"
      ]
     },
     "execution_count": 4,
     "metadata": {},
     "output_type": "execute_result"
    }
   ],
   "source": [
    "cdata.isna().sum()"
   ]
  },
  {
   "cell_type": "code",
   "execution_count": 5,
   "id": "23d92389",
   "metadata": {
    "ExecuteTime": {
     "end_time": "2022-09-19T06:49:46.855852Z",
     "start_time": "2022-09-19T06:49:46.846876Z"
    }
   },
   "outputs": [],
   "source": [
    "c = 0\n",
    "l = []\n",
    "for u in cdata.name.isna():\n",
    "    if u == True:\n",
    "        l.append(c)\n",
    "    c+=1"
   ]
  },
  {
   "cell_type": "code",
   "execution_count": 6,
   "id": "eda03f17",
   "metadata": {
    "ExecuteTime": {
     "end_time": "2022-09-19T06:49:47.253223Z",
     "start_time": "2022-09-19T06:49:47.245244Z"
    }
   },
   "outputs": [],
   "source": [
    "cdata.drop(l,axis=0,inplace=True)"
   ]
  },
  {
   "cell_type": "code",
   "execution_count": 9,
   "id": "4214b678",
   "metadata": {
    "ExecuteTime": {
     "end_time": "2022-09-19T06:50:51.218562Z",
     "start_time": "2022-09-19T06:50:51.214573Z"
    }
   },
   "outputs": [],
   "source": [
    "counter = 24000"
   ]
  },
  {
   "cell_type": "code",
   "execution_count": 10,
   "id": "5e4605ae",
   "metadata": {
    "ExecuteTime": {
     "end_time": "2022-09-19T08:49:46.418755Z",
     "start_time": "2022-09-19T06:50:53.526428Z"
    },
    "scrolled": false
   },
   "outputs": [],
   "source": [
    "name = cdata.name[counter+1:counter + 2000]\n",
    "ffx = webdriver.Chrome()\n",
    "\n",
    "ffx.get(\"https://www.transfermarkt.com\")\n",
    "\n",
    "bigLi = []\n",
    "notfound = []\n",
    "\n",
    "for e in name:\n",
    "\n",
    "    li = []\n",
    "    li.append(e) \n",
    "    counter +=1\n",
    "    try:\n",
    "        # Search with player name\n",
    "        ffx.find_element(By.CSS_SELECTOR, '[class=\"tm-header__input--search-field\"]').send_keys(e) \n",
    "\n",
    "\n",
    "        # press Enter Key\n",
    "        ffx.find_element(By.CSS_SELECTOR,'[class=\"tm-header__input--search-send\"]').send_keys(Keys.ENTER) \n",
    "\n",
    "        \n",
    "        # get player profile link like :   \" https://www.transfermarkt.com/james-rodriguez/profile/spieler/88103 \"\n",
    "        url = ffx.find_element(By.CSS_SELECTOR,'td[class= \"hauptlink\"]').find_element(By.TAG_NAME,'a').get_attribute('href')\n",
    "        \n",
    "    except:\n",
    "        ffx.find_element(By.CSS_SELECTOR, '[class=\"tm-header__input--search-field\"]').clear()\n",
    "        notfound.append(counter)\n",
    "        continue\n",
    "\n",
    "    pages = ['leistungsdatenverein', 'nationalmannschaft']\n",
    "\n",
    "                #leistungsdatenverein --->  stat page\n",
    "                #nationalmannschaft  --->  natoinal team stat page\n",
    "                #marktwertverlauf   ---> markert value rank\n",
    "\n",
    "    for page in pages:                    # switching betweem website pages from change this part  ----/profile/----\n",
    "        x = url.split('/')\n",
    "        x[4] = page\n",
    "        for i in range(len(x)):\n",
    "            x[i] = x[i] + \"/\"\n",
    "        url = ''.join(str(u) for u in x)\n",
    "\n",
    "        ffx.get(url)\n",
    "\n",
    "\n",
    "\n",
    "        if page == 'leistungsdatenverein':  \n",
    "            try:\n",
    "                stat = ffx.find_element(By.CSS_SELECTOR, 'div[id=\"yw1\"]').find_element(By.TAG_NAME,'tfoot')  \n",
    "                \n",
    "                for i, j in zip(stat.find_elements(By.CSS_SELECTOR, 'td[class=\"zentriert\"]'), range(1,7)):\n",
    "                    li.append(i.get_attribute(\"innerHTML\"))\n",
    "\n",
    "                for x, j in zip(stat.find_elements(By.CSS_SELECTOR, 'td[class=\"rechts\"]'), range(7,9)):\n",
    "                    li.insert(j, x.get_attribute(\"innerHTML\"))\n",
    "            except:\n",
    "                while len(li) < 9 :\n",
    "                    li.append('none')\n",
    "\n",
    "\n",
    "        elif page == 'nationalmannschaft':  \n",
    "            try:\n",
    "                stat = ffx.find_element(By.CSS_SELECTOR, 'div[id=\"yw1\"]').find_element(By.TAG_NAME,'tfoot')\n",
    "                \n",
    "                for i, j in zip(stat.find_elements(By.CSS_SELECTOR, 'td[class=\"zentriert\"]'), range(9,15)):\n",
    "                    li.insert(j, i.get_attribute(\"innerHTML\"))\n",
    "\n",
    "                for x, j in zip(stat.find_elements(By.CSS_SELECTOR, 'td[class=\"rechts\"]'), range(15,17)):\n",
    "                    li.insert(j, x.get_attribute(\"innerHTML\"))\n",
    "            except:\n",
    "                while len(li) < 17 :\n",
    "                    li.append('none')\n",
    "\n",
    "\n",
    "    ffx.find_element(By.CSS_SELECTOR, '[class=\"tm-header__input--search-field\"]').clear()\n",
    "    bigLi.append(li)\n",
    "\n",
    "\n",
    "ffx.quit()"
   ]
  },
  {
   "cell_type": "code",
   "execution_count": 16,
   "id": "6b444bdd",
   "metadata": {
    "ExecuteTime": {
     "end_time": "2022-09-19T08:52:42.942651Z",
     "start_time": "2022-09-19T08:52:42.938675Z"
    }
   },
   "outputs": [
    {
     "data": {
      "text/plain": [
       "20270"
      ]
     },
     "execution_count": 16,
     "metadata": {},
     "output_type": "execute_result"
    }
   ],
   "source": [
    "counter"
   ]
  },
  {
   "cell_type": "code",
   "execution_count": 17,
   "id": "e7c49bfc",
   "metadata": {
    "ExecuteTime": {
     "end_time": "2022-09-19T08:52:43.605497Z",
     "start_time": "2022-09-19T08:52:43.601507Z"
    }
   },
   "outputs": [
    {
     "data": {
      "text/plain": [
       "[18319, 18320, 18414, 18462, 18470, 18494, 18594, 18871, 19419, 19565]"
      ]
     },
     "execution_count": 17,
     "metadata": {},
     "output_type": "execute_result"
    }
   ],
   "source": [
    "notfound"
   ]
  },
  {
   "cell_type": "code",
   "execution_count": 18,
   "id": "ef27ecf8",
   "metadata": {
    "ExecuteTime": {
     "end_time": "2022-09-19T08:52:44.386116Z",
     "start_time": "2022-09-19T08:52:44.379134Z"
    }
   },
   "outputs": [],
   "source": [
    "q = 0\n",
    "for z, i  in zip(bigLi, range(len(bigLi))):\n",
    "    while len(z) < 22 :\n",
    "        z.append('none')\n",
    "    else :\n",
    "        bigLi[i] = bigLi[i][:22]\n",
    "    q+=1"
   ]
  },
  {
   "cell_type": "code",
   "execution_count": 28,
   "id": "fe4229c7",
   "metadata": {
    "ExecuteTime": {
     "end_time": "2022-09-19T08:53:55.352618Z",
     "start_time": "2022-09-19T08:53:55.345637Z"
    }
   },
   "outputs": [],
   "source": [
    "df = pd.DataFrame(bigLi, columns=['names', 'apperance', 'goals', 'assists', 'yellow_card', '2nd_ycard', 'red_card', 'drop','min', 'apperance_NT', 'goals_NT', 'assists_NT', 'yellow_card_NT', '2nd_ycard_NT', 'red_card_NT', 'drop NT','min_NT','world_rank', 'league_rank', 'club_rank', 'National_rank', 'position_rank'])                                     "
   ]
  },
  {
   "cell_type": "code",
   "execution_count": 29,
   "id": "f0c244e7",
   "metadata": {
    "ExecuteTime": {
     "end_time": "2022-09-19T08:53:57.374709Z",
     "start_time": "2022-09-19T08:53:57.369723Z"
    }
   },
   "outputs": [],
   "source": [
    "df.drop(['drop', 'drop NT'], axis= 1, inplace=True)"
   ]
  },
  {
   "cell_type": "code",
   "execution_count": 32,
   "id": "a9b34d21",
   "metadata": {
    "ExecuteTime": {
     "end_time": "2022-09-19T08:54:00.111833Z",
     "start_time": "2022-09-19T08:54:00.105849Z"
    }
   },
   "outputs": [],
   "source": [
    "df.replace('-',0, inplace=True)"
   ]
  },
  {
   "cell_type": "code",
   "execution_count": 34,
   "id": "667b05ac",
   "metadata": {
    "ExecuteTime": {
     "end_time": "2022-09-19T08:54:04.367940Z",
     "start_time": "2022-09-19T08:54:04.353977Z"
    }
   },
   "outputs": [],
   "source": [
    "df.to_csv('4thscraped_data')"
   ]
  },
  {
   "cell_type": "code",
   "execution_count": 37,
   "id": "4f3ba691",
   "metadata": {
    "ExecuteTime": {
     "end_time": "2022-09-19T08:54:15.639667Z",
     "start_time": "2022-09-19T08:54:15.634681Z"
    }
   },
   "outputs": [
    {
     "data": {
      "text/plain": [
       "(2261, 20)"
      ]
     },
     "execution_count": 37,
     "metadata": {},
     "output_type": "execute_result"
    }
   ],
   "source": [
    "df.shape"
   ]
  },
  {
   "cell_type": "code",
   "execution_count": null,
   "id": "730cebec",
   "metadata": {},
   "outputs": [],
   "source": []
  },
  {
   "cell_type": "code",
   "execution_count": null,
   "id": "adb2cc03",
   "metadata": {},
   "outputs": [],
   "source": []
  },
  {
   "cell_type": "code",
   "execution_count": null,
   "id": "b4ad14a2",
   "metadata": {},
   "outputs": [],
   "source": []
  },
  {
   "cell_type": "code",
   "execution_count": null,
   "id": "5e9e4ac7",
   "metadata": {},
   "outputs": [],
   "source": []
  },
  {
   "cell_type": "code",
   "execution_count": null,
   "id": "e7a266af",
   "metadata": {},
   "outputs": [],
   "source": []
  }
 ],
 "metadata": {
  "kernelspec": {
   "display_name": "Python 3 (ipykernel)",
   "language": "python",
   "name": "python3"
  },
  "language_info": {
   "codemirror_mode": {
    "name": "ipython",
    "version": 3
   },
   "file_extension": ".py",
   "mimetype": "text/x-python",
   "name": "python",
   "nbconvert_exporter": "python",
   "pygments_lexer": "ipython3",
   "version": "3.9.7"
  }
 },
 "nbformat": 4,
 "nbformat_minor": 5
}
